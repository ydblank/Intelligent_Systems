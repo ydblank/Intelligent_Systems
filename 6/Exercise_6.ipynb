{
  "cells": [
    {
      "cell_type": "code",
      "execution_count": 1,
      "id": "c995dce3",
      "metadata": {
        "id": "c995dce3"
      },
      "outputs": [],
      "source": [
        "import matplotlib.pyplot as plt\n",
        "import numpy as np\n",
        "import pandas as pd\n",
        "import tensorflow as tf\n",
        "\n",
        "from sklearn.metrics import accuracy_score, precision_score, recall_score\n",
        "from sklearn.model_selection import train_test_split\n",
        "from tensorflow.keras import layers, losses\n",
        "from tensorflow.keras.datasets import fashion_mnist\n",
        "from tensorflow.keras.models import Model"
      ]
    },
    {
      "cell_type": "markdown",
      "id": "3cbb6795",
      "metadata": {
        "id": "3cbb6795"
      },
      "source": [
        "# ECG\n",
        "---\n",
        "- An electrocardiogram (ECG) is a simple, non-invasive test that records the electrical activity of the heart.<br>\n",
        "- An ECG can help diagnose certain heart conditions, including abnormal heart rhythms and coronary heart disease (heart attack and angina).<br>\n",
        "- A doctor may recommend an ECG if you are experiencing symptoms like chest pain, breathlessness, dizziness, fainting or a feeling of your heart racing, fluttering, thumping or pounding in your chest (palpitations).<br>\n",
        "- An ECG can also help monitor how treatments for a heart condition, like medicines or implantable cardiac devices, are working.<br>"
      ]
    },
    {
      "cell_type": "markdown",
      "id": "09dd68fd",
      "metadata": {
        "id": "09dd68fd"
      },
      "source": [
        "# Diseases that are diagnosed with ECG\n",
        "---\n",
        "- Abnormal heart rhythms (arrhythmia).\n",
        "- Heart inflammation (pericarditis or myocarditis).\n",
        "- Ennlargement of the heart walls or viens (Cardiomyopathy)."
      ]
    },
    {
      "cell_type": "markdown",
      "id": "02a39de7",
      "metadata": {
        "id": "02a39de7"
      },
      "source": [
        "# Step 1: Read the dataset\n",
        "---\n",
        "### About the Dataset\n",
        "---\n",
        "https://www.timeseriesclassification.com/description.php?Dataset=ECG5000\n",
        "\n",
        "- The original dataset for \"ECG5000\" is a 20-hour long ECG downloaded from Physionet. The name is BIDMC Congestive Heart Failure Database(chfdb) and it is record \"chf07\". It was originally published in \"Goldberger AL, Amaral LAN, Glass L, Hausdorff JM, Ivanov PCh, Mark RG, Mietus JE, Moody GB, Peng C-K, Stanley HE. PhysioBank, PhysioToolkit, and PhysioNet: Components of a New Research Resource for Complex Physiologic Signals. Circulation 101(23)\". The data was pre-processed in two steps: (1) extract each heartbeat, (2) make each heartbeat equal length using interpolation. This dataset was originally used in paper \"A general framework for never-ending learning from time series streams\", DAMI 29(6). After that, 5,000 heartbeats were randomly selected. The patient has severe congestive heart failure and the class values were obtained by automated annotation\n"
      ]
    },
    {
      "cell_type": "code",
      "execution_count": 2,
      "id": "b4c93cd1",
      "metadata": {
        "colab": {
          "base_uri": "https://localhost:8080/",
          "height": 255
        },
        "id": "b4c93cd1",
        "outputId": "560fac96-cacb-4e58-df5b-072950894d44"
      },
      "outputs": [
        {
          "output_type": "execute_result",
          "data": {
            "text/plain": [
              "        0         1         2         3         4         5         6    \\\n",
              "0 -0.112522 -2.827204 -3.773897 -4.349751 -4.376041 -3.474986 -2.181408   \n",
              "1 -1.100878 -3.996840 -4.285843 -4.506579 -4.022377 -3.234368 -1.566126   \n",
              "2 -0.567088 -2.593450 -3.874230 -4.584095 -4.187449 -3.151462 -1.742940   \n",
              "3  0.490473 -1.914407 -3.616364 -4.318823 -4.268016 -3.881110 -2.993280   \n",
              "4  0.800232 -0.874252 -2.384761 -3.973292 -4.338224 -3.802422 -2.534510   \n",
              "\n",
              "        7         8         9    ...       131       132       133       134  \\\n",
              "0 -1.818286 -1.250522 -0.477492  ...  0.792168  0.933541  0.796958  0.578621   \n",
              "1 -0.992258 -0.754680  0.042321  ...  0.538356  0.656881  0.787490  0.724046   \n",
              "2 -1.490659 -1.183580 -0.394229  ...  0.886073  0.531452  0.311377 -0.021919   \n",
              "3 -1.671131 -1.333884 -0.965629  ...  0.350816  0.499111  0.600345  0.842069   \n",
              "4 -1.783423 -1.594450 -0.753199  ...  1.148884  0.958434  1.059025  1.371682   \n",
              "\n",
              "        135       136       137       138       139  140  \n",
              "0  0.257740  0.228077  0.123431  0.925286  0.193137  1.0  \n",
              "1  0.555784  0.476333  0.773820  1.119621 -1.436250  1.0  \n",
              "2 -0.713683 -0.532197  0.321097  0.904227 -0.421797  1.0  \n",
              "3  0.952074  0.990133  1.086798  1.403011 -0.383564  1.0  \n",
              "4  1.277392  0.960304  0.971020  1.614392  1.421456  1.0  \n",
              "\n",
              "[5 rows x 141 columns]"
            ],
            "text/html": [
              "\n",
              "  <div id=\"df-794890dc-eb45-47bb-a498-898dbcb75e5f\" class=\"colab-df-container\">\n",
              "    <div>\n",
              "<style scoped>\n",
              "    .dataframe tbody tr th:only-of-type {\n",
              "        vertical-align: middle;\n",
              "    }\n",
              "\n",
              "    .dataframe tbody tr th {\n",
              "        vertical-align: top;\n",
              "    }\n",
              "\n",
              "    .dataframe thead th {\n",
              "        text-align: right;\n",
              "    }\n",
              "</style>\n",
              "<table border=\"1\" class=\"dataframe\">\n",
              "  <thead>\n",
              "    <tr style=\"text-align: right;\">\n",
              "      <th></th>\n",
              "      <th>0</th>\n",
              "      <th>1</th>\n",
              "      <th>2</th>\n",
              "      <th>3</th>\n",
              "      <th>4</th>\n",
              "      <th>5</th>\n",
              "      <th>6</th>\n",
              "      <th>7</th>\n",
              "      <th>8</th>\n",
              "      <th>9</th>\n",
              "      <th>...</th>\n",
              "      <th>131</th>\n",
              "      <th>132</th>\n",
              "      <th>133</th>\n",
              "      <th>134</th>\n",
              "      <th>135</th>\n",
              "      <th>136</th>\n",
              "      <th>137</th>\n",
              "      <th>138</th>\n",
              "      <th>139</th>\n",
              "      <th>140</th>\n",
              "    </tr>\n",
              "  </thead>\n",
              "  <tbody>\n",
              "    <tr>\n",
              "      <th>0</th>\n",
              "      <td>-0.112522</td>\n",
              "      <td>-2.827204</td>\n",
              "      <td>-3.773897</td>\n",
              "      <td>-4.349751</td>\n",
              "      <td>-4.376041</td>\n",
              "      <td>-3.474986</td>\n",
              "      <td>-2.181408</td>\n",
              "      <td>-1.818286</td>\n",
              "      <td>-1.250522</td>\n",
              "      <td>-0.477492</td>\n",
              "      <td>...</td>\n",
              "      <td>0.792168</td>\n",
              "      <td>0.933541</td>\n",
              "      <td>0.796958</td>\n",
              "      <td>0.578621</td>\n",
              "      <td>0.257740</td>\n",
              "      <td>0.228077</td>\n",
              "      <td>0.123431</td>\n",
              "      <td>0.925286</td>\n",
              "      <td>0.193137</td>\n",
              "      <td>1.0</td>\n",
              "    </tr>\n",
              "    <tr>\n",
              "      <th>1</th>\n",
              "      <td>-1.100878</td>\n",
              "      <td>-3.996840</td>\n",
              "      <td>-4.285843</td>\n",
              "      <td>-4.506579</td>\n",
              "      <td>-4.022377</td>\n",
              "      <td>-3.234368</td>\n",
              "      <td>-1.566126</td>\n",
              "      <td>-0.992258</td>\n",
              "      <td>-0.754680</td>\n",
              "      <td>0.042321</td>\n",
              "      <td>...</td>\n",
              "      <td>0.538356</td>\n",
              "      <td>0.656881</td>\n",
              "      <td>0.787490</td>\n",
              "      <td>0.724046</td>\n",
              "      <td>0.555784</td>\n",
              "      <td>0.476333</td>\n",
              "      <td>0.773820</td>\n",
              "      <td>1.119621</td>\n",
              "      <td>-1.436250</td>\n",
              "      <td>1.0</td>\n",
              "    </tr>\n",
              "    <tr>\n",
              "      <th>2</th>\n",
              "      <td>-0.567088</td>\n",
              "      <td>-2.593450</td>\n",
              "      <td>-3.874230</td>\n",
              "      <td>-4.584095</td>\n",
              "      <td>-4.187449</td>\n",
              "      <td>-3.151462</td>\n",
              "      <td>-1.742940</td>\n",
              "      <td>-1.490659</td>\n",
              "      <td>-1.183580</td>\n",
              "      <td>-0.394229</td>\n",
              "      <td>...</td>\n",
              "      <td>0.886073</td>\n",
              "      <td>0.531452</td>\n",
              "      <td>0.311377</td>\n",
              "      <td>-0.021919</td>\n",
              "      <td>-0.713683</td>\n",
              "      <td>-0.532197</td>\n",
              "      <td>0.321097</td>\n",
              "      <td>0.904227</td>\n",
              "      <td>-0.421797</td>\n",
              "      <td>1.0</td>\n",
              "    </tr>\n",
              "    <tr>\n",
              "      <th>3</th>\n",
              "      <td>0.490473</td>\n",
              "      <td>-1.914407</td>\n",
              "      <td>-3.616364</td>\n",
              "      <td>-4.318823</td>\n",
              "      <td>-4.268016</td>\n",
              "      <td>-3.881110</td>\n",
              "      <td>-2.993280</td>\n",
              "      <td>-1.671131</td>\n",
              "      <td>-1.333884</td>\n",
              "      <td>-0.965629</td>\n",
              "      <td>...</td>\n",
              "      <td>0.350816</td>\n",
              "      <td>0.499111</td>\n",
              "      <td>0.600345</td>\n",
              "      <td>0.842069</td>\n",
              "      <td>0.952074</td>\n",
              "      <td>0.990133</td>\n",
              "      <td>1.086798</td>\n",
              "      <td>1.403011</td>\n",
              "      <td>-0.383564</td>\n",
              "      <td>1.0</td>\n",
              "    </tr>\n",
              "    <tr>\n",
              "      <th>4</th>\n",
              "      <td>0.800232</td>\n",
              "      <td>-0.874252</td>\n",
              "      <td>-2.384761</td>\n",
              "      <td>-3.973292</td>\n",
              "      <td>-4.338224</td>\n",
              "      <td>-3.802422</td>\n",
              "      <td>-2.534510</td>\n",
              "      <td>-1.783423</td>\n",
              "      <td>-1.594450</td>\n",
              "      <td>-0.753199</td>\n",
              "      <td>...</td>\n",
              "      <td>1.148884</td>\n",
              "      <td>0.958434</td>\n",
              "      <td>1.059025</td>\n",
              "      <td>1.371682</td>\n",
              "      <td>1.277392</td>\n",
              "      <td>0.960304</td>\n",
              "      <td>0.971020</td>\n",
              "      <td>1.614392</td>\n",
              "      <td>1.421456</td>\n",
              "      <td>1.0</td>\n",
              "    </tr>\n",
              "  </tbody>\n",
              "</table>\n",
              "<p>5 rows × 141 columns</p>\n",
              "</div>\n",
              "    <div class=\"colab-df-buttons\">\n",
              "\n",
              "  <div class=\"colab-df-container\">\n",
              "    <button class=\"colab-df-convert\" onclick=\"convertToInteractive('df-794890dc-eb45-47bb-a498-898dbcb75e5f')\"\n",
              "            title=\"Convert this dataframe to an interactive table.\"\n",
              "            style=\"display:none;\">\n",
              "\n",
              "  <svg xmlns=\"http://www.w3.org/2000/svg\" height=\"24px\" viewBox=\"0 -960 960 960\">\n",
              "    <path d=\"M120-120v-720h720v720H120Zm60-500h600v-160H180v160Zm220 220h160v-160H400v160Zm0 220h160v-160H400v160ZM180-400h160v-160H180v160Zm440 0h160v-160H620v160ZM180-180h160v-160H180v160Zm440 0h160v-160H620v160Z\"/>\n",
              "  </svg>\n",
              "    </button>\n",
              "\n",
              "  <style>\n",
              "    .colab-df-container {\n",
              "      display:flex;\n",
              "      gap: 12px;\n",
              "    }\n",
              "\n",
              "    .colab-df-convert {\n",
              "      background-color: #E8F0FE;\n",
              "      border: none;\n",
              "      border-radius: 50%;\n",
              "      cursor: pointer;\n",
              "      display: none;\n",
              "      fill: #1967D2;\n",
              "      height: 32px;\n",
              "      padding: 0 0 0 0;\n",
              "      width: 32px;\n",
              "    }\n",
              "\n",
              "    .colab-df-convert:hover {\n",
              "      background-color: #E2EBFA;\n",
              "      box-shadow: 0px 1px 2px rgba(60, 64, 67, 0.3), 0px 1px 3px 1px rgba(60, 64, 67, 0.15);\n",
              "      fill: #174EA6;\n",
              "    }\n",
              "\n",
              "    .colab-df-buttons div {\n",
              "      margin-bottom: 4px;\n",
              "    }\n",
              "\n",
              "    [theme=dark] .colab-df-convert {\n",
              "      background-color: #3B4455;\n",
              "      fill: #D2E3FC;\n",
              "    }\n",
              "\n",
              "    [theme=dark] .colab-df-convert:hover {\n",
              "      background-color: #434B5C;\n",
              "      box-shadow: 0px 1px 3px 1px rgba(0, 0, 0, 0.15);\n",
              "      filter: drop-shadow(0px 1px 2px rgba(0, 0, 0, 0.3));\n",
              "      fill: #FFFFFF;\n",
              "    }\n",
              "  </style>\n",
              "\n",
              "    <script>\n",
              "      const buttonEl =\n",
              "        document.querySelector('#df-794890dc-eb45-47bb-a498-898dbcb75e5f button.colab-df-convert');\n",
              "      buttonEl.style.display =\n",
              "        google.colab.kernel.accessAllowed ? 'block' : 'none';\n",
              "\n",
              "      async function convertToInteractive(key) {\n",
              "        const element = document.querySelector('#df-794890dc-eb45-47bb-a498-898dbcb75e5f');\n",
              "        const dataTable =\n",
              "          await google.colab.kernel.invokeFunction('convertToInteractive',\n",
              "                                                    [key], {});\n",
              "        if (!dataTable) return;\n",
              "\n",
              "        const docLinkHtml = 'Like what you see? Visit the ' +\n",
              "          '<a target=\"_blank\" href=https://colab.research.google.com/notebooks/data_table.ipynb>data table notebook</a>'\n",
              "          + ' to learn more about interactive tables.';\n",
              "        element.innerHTML = '';\n",
              "        dataTable['output_type'] = 'display_data';\n",
              "        await google.colab.output.renderOutput(dataTable, element);\n",
              "        const docLink = document.createElement('div');\n",
              "        docLink.innerHTML = docLinkHtml;\n",
              "        element.appendChild(docLink);\n",
              "      }\n",
              "    </script>\n",
              "  </div>\n",
              "\n",
              "\n",
              "<div id=\"df-9dde4519-8117-4053-8fb8-e1fad7c9bd7a\">\n",
              "  <button class=\"colab-df-quickchart\" onclick=\"quickchart('df-9dde4519-8117-4053-8fb8-e1fad7c9bd7a')\"\n",
              "            title=\"Suggest charts\"\n",
              "            style=\"display:none;\">\n",
              "\n",
              "<svg xmlns=\"http://www.w3.org/2000/svg\" height=\"24px\"viewBox=\"0 0 24 24\"\n",
              "     width=\"24px\">\n",
              "    <g>\n",
              "        <path d=\"M19 3H5c-1.1 0-2 .9-2 2v14c0 1.1.9 2 2 2h14c1.1 0 2-.9 2-2V5c0-1.1-.9-2-2-2zM9 17H7v-7h2v7zm4 0h-2V7h2v10zm4 0h-2v-4h2v4z\"/>\n",
              "    </g>\n",
              "</svg>\n",
              "  </button>\n",
              "\n",
              "<style>\n",
              "  .colab-df-quickchart {\n",
              "      --bg-color: #E8F0FE;\n",
              "      --fill-color: #1967D2;\n",
              "      --hover-bg-color: #E2EBFA;\n",
              "      --hover-fill-color: #174EA6;\n",
              "      --disabled-fill-color: #AAA;\n",
              "      --disabled-bg-color: #DDD;\n",
              "  }\n",
              "\n",
              "  [theme=dark] .colab-df-quickchart {\n",
              "      --bg-color: #3B4455;\n",
              "      --fill-color: #D2E3FC;\n",
              "      --hover-bg-color: #434B5C;\n",
              "      --hover-fill-color: #FFFFFF;\n",
              "      --disabled-bg-color: #3B4455;\n",
              "      --disabled-fill-color: #666;\n",
              "  }\n",
              "\n",
              "  .colab-df-quickchart {\n",
              "    background-color: var(--bg-color);\n",
              "    border: none;\n",
              "    border-radius: 50%;\n",
              "    cursor: pointer;\n",
              "    display: none;\n",
              "    fill: var(--fill-color);\n",
              "    height: 32px;\n",
              "    padding: 0;\n",
              "    width: 32px;\n",
              "  }\n",
              "\n",
              "  .colab-df-quickchart:hover {\n",
              "    background-color: var(--hover-bg-color);\n",
              "    box-shadow: 0 1px 2px rgba(60, 64, 67, 0.3), 0 1px 3px 1px rgba(60, 64, 67, 0.15);\n",
              "    fill: var(--button-hover-fill-color);\n",
              "  }\n",
              "\n",
              "  .colab-df-quickchart-complete:disabled,\n",
              "  .colab-df-quickchart-complete:disabled:hover {\n",
              "    background-color: var(--disabled-bg-color);\n",
              "    fill: var(--disabled-fill-color);\n",
              "    box-shadow: none;\n",
              "  }\n",
              "\n",
              "  .colab-df-spinner {\n",
              "    border: 2px solid var(--fill-color);\n",
              "    border-color: transparent;\n",
              "    border-bottom-color: var(--fill-color);\n",
              "    animation:\n",
              "      spin 1s steps(1) infinite;\n",
              "  }\n",
              "\n",
              "  @keyframes spin {\n",
              "    0% {\n",
              "      border-color: transparent;\n",
              "      border-bottom-color: var(--fill-color);\n",
              "      border-left-color: var(--fill-color);\n",
              "    }\n",
              "    20% {\n",
              "      border-color: transparent;\n",
              "      border-left-color: var(--fill-color);\n",
              "      border-top-color: var(--fill-color);\n",
              "    }\n",
              "    30% {\n",
              "      border-color: transparent;\n",
              "      border-left-color: var(--fill-color);\n",
              "      border-top-color: var(--fill-color);\n",
              "      border-right-color: var(--fill-color);\n",
              "    }\n",
              "    40% {\n",
              "      border-color: transparent;\n",
              "      border-right-color: var(--fill-color);\n",
              "      border-top-color: var(--fill-color);\n",
              "    }\n",
              "    60% {\n",
              "      border-color: transparent;\n",
              "      border-right-color: var(--fill-color);\n",
              "    }\n",
              "    80% {\n",
              "      border-color: transparent;\n",
              "      border-right-color: var(--fill-color);\n",
              "      border-bottom-color: var(--fill-color);\n",
              "    }\n",
              "    90% {\n",
              "      border-color: transparent;\n",
              "      border-bottom-color: var(--fill-color);\n",
              "    }\n",
              "  }\n",
              "</style>\n",
              "\n",
              "  <script>\n",
              "    async function quickchart(key) {\n",
              "      const quickchartButtonEl =\n",
              "        document.querySelector('#' + key + ' button');\n",
              "      quickchartButtonEl.disabled = true;  // To prevent multiple clicks.\n",
              "      quickchartButtonEl.classList.add('colab-df-spinner');\n",
              "      try {\n",
              "        const charts = await google.colab.kernel.invokeFunction(\n",
              "            'suggestCharts', [key], {});\n",
              "      } catch (error) {\n",
              "        console.error('Error during call to suggestCharts:', error);\n",
              "      }\n",
              "      quickchartButtonEl.classList.remove('colab-df-spinner');\n",
              "      quickchartButtonEl.classList.add('colab-df-quickchart-complete');\n",
              "    }\n",
              "    (() => {\n",
              "      let quickchartButtonEl =\n",
              "        document.querySelector('#df-9dde4519-8117-4053-8fb8-e1fad7c9bd7a button');\n",
              "      quickchartButtonEl.style.display =\n",
              "        google.colab.kernel.accessAllowed ? 'block' : 'none';\n",
              "    })();\n",
              "  </script>\n",
              "</div>\n",
              "    </div>\n",
              "  </div>\n"
            ]
          },
          "metadata": {},
          "execution_count": 2
        }
      ],
      "source": [
        "dataframe = pd.read_csv('http://storage.googleapis.com/download.tensorflow.org/data/ecg.csv', header=None)\n",
        "raw_data = dataframe.values\n",
        "dataframe.head()"
      ]
    },
    {
      "cell_type": "code",
      "execution_count": 3,
      "id": "11a20d82",
      "metadata": {
        "colab": {
          "base_uri": "https://localhost:8080/",
          "height": 412
        },
        "id": "11a20d82",
        "outputId": "d638af89-7e88-4e4d-a8ad-982b830dc0b1"
      },
      "outputs": [
        {
          "output_type": "execute_result",
          "data": {
            "text/plain": [
              "           0         1         2         3         4         5         6    \\\n",
              "4988 -1.288596 -2.278724 -2.794928 -3.494184 -3.528543 -3.330146 -2.830235   \n",
              "4989 -1.011168 -1.623403 -1.833340 -2.651300 -2.699728 -2.530072 -2.373822   \n",
              "4990 -0.392358 -1.174090 -1.689053 -2.406077 -2.630179 -2.579774 -2.356171   \n",
              "4991 -0.097026 -1.188811 -2.059970 -2.987246 -3.459390 -3.472208 -3.263205   \n",
              "4992 -0.495351 -1.270163 -1.986271 -2.736936 -2.858549 -2.742976 -2.240365   \n",
              "4993  0.608558 -0.335651 -0.990948 -1.784153 -2.626145 -2.957065 -2.931897   \n",
              "4994 -2.060402 -2.860116 -3.405074 -3.748719 -3.513561 -3.006545 -2.234850   \n",
              "4995 -1.122969 -2.252925 -2.867628 -3.358605 -3.167849 -2.638360 -1.664162   \n",
              "4996 -0.547705 -1.889545 -2.839779 -3.457912 -3.929149 -3.966026 -3.492560   \n",
              "4997 -1.351779 -2.209006 -2.520225 -3.061475 -3.065141 -3.030739 -2.622720   \n",
              "\n",
              "           7         8         9    ...       131       132       133  \\\n",
              "4988 -2.168832 -1.475435 -1.140340  ...  1.851129  1.932385  2.245510   \n",
              "4989 -2.012117 -1.524117 -0.890103  ... -2.806776 -3.214221 -3.518329   \n",
              "4990 -1.931773 -1.252256 -0.646230  ... -2.424399 -2.862044 -3.224369   \n",
              "4991 -2.761881 -1.959433 -1.308527  ...  1.877755  2.422262  2.536718   \n",
              "4992 -1.569523 -0.843160 -0.538130  ... -2.337237 -2.743785 -3.465983   \n",
              "4993 -2.664816 -2.090137 -1.461841  ...  1.757705  2.291923  2.704595   \n",
              "4994 -1.593270 -1.075279 -0.976047  ...  1.388947  2.079675  2.433375   \n",
              "4995 -0.935655 -0.866953 -0.645363  ... -0.472419 -1.310147 -2.029521   \n",
              "4996 -2.695270 -1.849691 -1.374321  ...  1.258419  1.907530  2.280888   \n",
              "4997 -2.044092 -1.295874 -0.733839  ... -1.512234 -2.076075 -2.586042   \n",
              "\n",
              "           134       135       136       137       138       139  140  \n",
              "4988  2.550319  2.221183  1.504106  1.142408  0.983572  1.120016  0.0  \n",
              "4989 -3.293595 -2.642195 -1.537684 -0.520506 -0.336234  0.513490  0.0  \n",
              "4990 -3.796142 -3.750093 -3.218652 -2.014173 -1.367494 -0.595857  0.0  \n",
              "4991  1.847567  1.398425  1.197775  1.309180  0.848214  0.418162  0.0  \n",
              "4992 -4.019493 -3.544676 -2.625789 -1.511289 -0.983429 -0.289070  0.0  \n",
              "4993  2.451519  2.017396  1.704358  1.688542  1.629593  1.342651  0.0  \n",
              "4994  2.159484  1.819747  1.534767  1.696818  1.483832  1.047612  0.0  \n",
              "4995 -3.221294 -4.176790 -4.009720 -2.874136 -2.008369 -1.808334  0.0  \n",
              "4996  1.895242  1.437702  1.193433  1.261335  1.150449  0.804932  0.0  \n",
              "4997 -3.322799 -3.627311 -3.437038 -2.260023 -1.577823 -0.684531  0.0  \n",
              "\n",
              "[10 rows x 141 columns]"
            ],
            "text/html": [
              "\n",
              "  <div id=\"df-e9595835-b9e1-4beb-a334-064d2c445c11\" class=\"colab-df-container\">\n",
              "    <div>\n",
              "<style scoped>\n",
              "    .dataframe tbody tr th:only-of-type {\n",
              "        vertical-align: middle;\n",
              "    }\n",
              "\n",
              "    .dataframe tbody tr th {\n",
              "        vertical-align: top;\n",
              "    }\n",
              "\n",
              "    .dataframe thead th {\n",
              "        text-align: right;\n",
              "    }\n",
              "</style>\n",
              "<table border=\"1\" class=\"dataframe\">\n",
              "  <thead>\n",
              "    <tr style=\"text-align: right;\">\n",
              "      <th></th>\n",
              "      <th>0</th>\n",
              "      <th>1</th>\n",
              "      <th>2</th>\n",
              "      <th>3</th>\n",
              "      <th>4</th>\n",
              "      <th>5</th>\n",
              "      <th>6</th>\n",
              "      <th>7</th>\n",
              "      <th>8</th>\n",
              "      <th>9</th>\n",
              "      <th>...</th>\n",
              "      <th>131</th>\n",
              "      <th>132</th>\n",
              "      <th>133</th>\n",
              "      <th>134</th>\n",
              "      <th>135</th>\n",
              "      <th>136</th>\n",
              "      <th>137</th>\n",
              "      <th>138</th>\n",
              "      <th>139</th>\n",
              "      <th>140</th>\n",
              "    </tr>\n",
              "  </thead>\n",
              "  <tbody>\n",
              "    <tr>\n",
              "      <th>4988</th>\n",
              "      <td>-1.288596</td>\n",
              "      <td>-2.278724</td>\n",
              "      <td>-2.794928</td>\n",
              "      <td>-3.494184</td>\n",
              "      <td>-3.528543</td>\n",
              "      <td>-3.330146</td>\n",
              "      <td>-2.830235</td>\n",
              "      <td>-2.168832</td>\n",
              "      <td>-1.475435</td>\n",
              "      <td>-1.140340</td>\n",
              "      <td>...</td>\n",
              "      <td>1.851129</td>\n",
              "      <td>1.932385</td>\n",
              "      <td>2.245510</td>\n",
              "      <td>2.550319</td>\n",
              "      <td>2.221183</td>\n",
              "      <td>1.504106</td>\n",
              "      <td>1.142408</td>\n",
              "      <td>0.983572</td>\n",
              "      <td>1.120016</td>\n",
              "      <td>0.0</td>\n",
              "    </tr>\n",
              "    <tr>\n",
              "      <th>4989</th>\n",
              "      <td>-1.011168</td>\n",
              "      <td>-1.623403</td>\n",
              "      <td>-1.833340</td>\n",
              "      <td>-2.651300</td>\n",
              "      <td>-2.699728</td>\n",
              "      <td>-2.530072</td>\n",
              "      <td>-2.373822</td>\n",
              "      <td>-2.012117</td>\n",
              "      <td>-1.524117</td>\n",
              "      <td>-0.890103</td>\n",
              "      <td>...</td>\n",
              "      <td>-2.806776</td>\n",
              "      <td>-3.214221</td>\n",
              "      <td>-3.518329</td>\n",
              "      <td>-3.293595</td>\n",
              "      <td>-2.642195</td>\n",
              "      <td>-1.537684</td>\n",
              "      <td>-0.520506</td>\n",
              "      <td>-0.336234</td>\n",
              "      <td>0.513490</td>\n",
              "      <td>0.0</td>\n",
              "    </tr>\n",
              "    <tr>\n",
              "      <th>4990</th>\n",
              "      <td>-0.392358</td>\n",
              "      <td>-1.174090</td>\n",
              "      <td>-1.689053</td>\n",
              "      <td>-2.406077</td>\n",
              "      <td>-2.630179</td>\n",
              "      <td>-2.579774</td>\n",
              "      <td>-2.356171</td>\n",
              "      <td>-1.931773</td>\n",
              "      <td>-1.252256</td>\n",
              "      <td>-0.646230</td>\n",
              "      <td>...</td>\n",
              "      <td>-2.424399</td>\n",
              "      <td>-2.862044</td>\n",
              "      <td>-3.224369</td>\n",
              "      <td>-3.796142</td>\n",
              "      <td>-3.750093</td>\n",
              "      <td>-3.218652</td>\n",
              "      <td>-2.014173</td>\n",
              "      <td>-1.367494</td>\n",
              "      <td>-0.595857</td>\n",
              "      <td>0.0</td>\n",
              "    </tr>\n",
              "    <tr>\n",
              "      <th>4991</th>\n",
              "      <td>-0.097026</td>\n",
              "      <td>-1.188811</td>\n",
              "      <td>-2.059970</td>\n",
              "      <td>-2.987246</td>\n",
              "      <td>-3.459390</td>\n",
              "      <td>-3.472208</td>\n",
              "      <td>-3.263205</td>\n",
              "      <td>-2.761881</td>\n",
              "      <td>-1.959433</td>\n",
              "      <td>-1.308527</td>\n",
              "      <td>...</td>\n",
              "      <td>1.877755</td>\n",
              "      <td>2.422262</td>\n",
              "      <td>2.536718</td>\n",
              "      <td>1.847567</td>\n",
              "      <td>1.398425</td>\n",
              "      <td>1.197775</td>\n",
              "      <td>1.309180</td>\n",
              "      <td>0.848214</td>\n",
              "      <td>0.418162</td>\n",
              "      <td>0.0</td>\n",
              "    </tr>\n",
              "    <tr>\n",
              "      <th>4992</th>\n",
              "      <td>-0.495351</td>\n",
              "      <td>-1.270163</td>\n",
              "      <td>-1.986271</td>\n",
              "      <td>-2.736936</td>\n",
              "      <td>-2.858549</td>\n",
              "      <td>-2.742976</td>\n",
              "      <td>-2.240365</td>\n",
              "      <td>-1.569523</td>\n",
              "      <td>-0.843160</td>\n",
              "      <td>-0.538130</td>\n",
              "      <td>...</td>\n",
              "      <td>-2.337237</td>\n",
              "      <td>-2.743785</td>\n",
              "      <td>-3.465983</td>\n",
              "      <td>-4.019493</td>\n",
              "      <td>-3.544676</td>\n",
              "      <td>-2.625789</td>\n",
              "      <td>-1.511289</td>\n",
              "      <td>-0.983429</td>\n",
              "      <td>-0.289070</td>\n",
              "      <td>0.0</td>\n",
              "    </tr>\n",
              "    <tr>\n",
              "      <th>4993</th>\n",
              "      <td>0.608558</td>\n",
              "      <td>-0.335651</td>\n",
              "      <td>-0.990948</td>\n",
              "      <td>-1.784153</td>\n",
              "      <td>-2.626145</td>\n",
              "      <td>-2.957065</td>\n",
              "      <td>-2.931897</td>\n",
              "      <td>-2.664816</td>\n",
              "      <td>-2.090137</td>\n",
              "      <td>-1.461841</td>\n",
              "      <td>...</td>\n",
              "      <td>1.757705</td>\n",
              "      <td>2.291923</td>\n",
              "      <td>2.704595</td>\n",
              "      <td>2.451519</td>\n",
              "      <td>2.017396</td>\n",
              "      <td>1.704358</td>\n",
              "      <td>1.688542</td>\n",
              "      <td>1.629593</td>\n",
              "      <td>1.342651</td>\n",
              "      <td>0.0</td>\n",
              "    </tr>\n",
              "    <tr>\n",
              "      <th>4994</th>\n",
              "      <td>-2.060402</td>\n",
              "      <td>-2.860116</td>\n",
              "      <td>-3.405074</td>\n",
              "      <td>-3.748719</td>\n",
              "      <td>-3.513561</td>\n",
              "      <td>-3.006545</td>\n",
              "      <td>-2.234850</td>\n",
              "      <td>-1.593270</td>\n",
              "      <td>-1.075279</td>\n",
              "      <td>-0.976047</td>\n",
              "      <td>...</td>\n",
              "      <td>1.388947</td>\n",
              "      <td>2.079675</td>\n",
              "      <td>2.433375</td>\n",
              "      <td>2.159484</td>\n",
              "      <td>1.819747</td>\n",
              "      <td>1.534767</td>\n",
              "      <td>1.696818</td>\n",
              "      <td>1.483832</td>\n",
              "      <td>1.047612</td>\n",
              "      <td>0.0</td>\n",
              "    </tr>\n",
              "    <tr>\n",
              "      <th>4995</th>\n",
              "      <td>-1.122969</td>\n",
              "      <td>-2.252925</td>\n",
              "      <td>-2.867628</td>\n",
              "      <td>-3.358605</td>\n",
              "      <td>-3.167849</td>\n",
              "      <td>-2.638360</td>\n",
              "      <td>-1.664162</td>\n",
              "      <td>-0.935655</td>\n",
              "      <td>-0.866953</td>\n",
              "      <td>-0.645363</td>\n",
              "      <td>...</td>\n",
              "      <td>-0.472419</td>\n",
              "      <td>-1.310147</td>\n",
              "      <td>-2.029521</td>\n",
              "      <td>-3.221294</td>\n",
              "      <td>-4.176790</td>\n",
              "      <td>-4.009720</td>\n",
              "      <td>-2.874136</td>\n",
              "      <td>-2.008369</td>\n",
              "      <td>-1.808334</td>\n",
              "      <td>0.0</td>\n",
              "    </tr>\n",
              "    <tr>\n",
              "      <th>4996</th>\n",
              "      <td>-0.547705</td>\n",
              "      <td>-1.889545</td>\n",
              "      <td>-2.839779</td>\n",
              "      <td>-3.457912</td>\n",
              "      <td>-3.929149</td>\n",
              "      <td>-3.966026</td>\n",
              "      <td>-3.492560</td>\n",
              "      <td>-2.695270</td>\n",
              "      <td>-1.849691</td>\n",
              "      <td>-1.374321</td>\n",
              "      <td>...</td>\n",
              "      <td>1.258419</td>\n",
              "      <td>1.907530</td>\n",
              "      <td>2.280888</td>\n",
              "      <td>1.895242</td>\n",
              "      <td>1.437702</td>\n",
              "      <td>1.193433</td>\n",
              "      <td>1.261335</td>\n",
              "      <td>1.150449</td>\n",
              "      <td>0.804932</td>\n",
              "      <td>0.0</td>\n",
              "    </tr>\n",
              "    <tr>\n",
              "      <th>4997</th>\n",
              "      <td>-1.351779</td>\n",
              "      <td>-2.209006</td>\n",
              "      <td>-2.520225</td>\n",
              "      <td>-3.061475</td>\n",
              "      <td>-3.065141</td>\n",
              "      <td>-3.030739</td>\n",
              "      <td>-2.622720</td>\n",
              "      <td>-2.044092</td>\n",
              "      <td>-1.295874</td>\n",
              "      <td>-0.733839</td>\n",
              "      <td>...</td>\n",
              "      <td>-1.512234</td>\n",
              "      <td>-2.076075</td>\n",
              "      <td>-2.586042</td>\n",
              "      <td>-3.322799</td>\n",
              "      <td>-3.627311</td>\n",
              "      <td>-3.437038</td>\n",
              "      <td>-2.260023</td>\n",
              "      <td>-1.577823</td>\n",
              "      <td>-0.684531</td>\n",
              "      <td>0.0</td>\n",
              "    </tr>\n",
              "  </tbody>\n",
              "</table>\n",
              "<p>10 rows × 141 columns</p>\n",
              "</div>\n",
              "    <div class=\"colab-df-buttons\">\n",
              "\n",
              "  <div class=\"colab-df-container\">\n",
              "    <button class=\"colab-df-convert\" onclick=\"convertToInteractive('df-e9595835-b9e1-4beb-a334-064d2c445c11')\"\n",
              "            title=\"Convert this dataframe to an interactive table.\"\n",
              "            style=\"display:none;\">\n",
              "\n",
              "  <svg xmlns=\"http://www.w3.org/2000/svg\" height=\"24px\" viewBox=\"0 -960 960 960\">\n",
              "    <path d=\"M120-120v-720h720v720H120Zm60-500h600v-160H180v160Zm220 220h160v-160H400v160Zm0 220h160v-160H400v160ZM180-400h160v-160H180v160Zm440 0h160v-160H620v160ZM180-180h160v-160H180v160Zm440 0h160v-160H620v160Z\"/>\n",
              "  </svg>\n",
              "    </button>\n",
              "\n",
              "  <style>\n",
              "    .colab-df-container {\n",
              "      display:flex;\n",
              "      gap: 12px;\n",
              "    }\n",
              "\n",
              "    .colab-df-convert {\n",
              "      background-color: #E8F0FE;\n",
              "      border: none;\n",
              "      border-radius: 50%;\n",
              "      cursor: pointer;\n",
              "      display: none;\n",
              "      fill: #1967D2;\n",
              "      height: 32px;\n",
              "      padding: 0 0 0 0;\n",
              "      width: 32px;\n",
              "    }\n",
              "\n",
              "    .colab-df-convert:hover {\n",
              "      background-color: #E2EBFA;\n",
              "      box-shadow: 0px 1px 2px rgba(60, 64, 67, 0.3), 0px 1px 3px 1px rgba(60, 64, 67, 0.15);\n",
              "      fill: #174EA6;\n",
              "    }\n",
              "\n",
              "    .colab-df-buttons div {\n",
              "      margin-bottom: 4px;\n",
              "    }\n",
              "\n",
              "    [theme=dark] .colab-df-convert {\n",
              "      background-color: #3B4455;\n",
              "      fill: #D2E3FC;\n",
              "    }\n",
              "\n",
              "    [theme=dark] .colab-df-convert:hover {\n",
              "      background-color: #434B5C;\n",
              "      box-shadow: 0px 1px 3px 1px rgba(0, 0, 0, 0.15);\n",
              "      filter: drop-shadow(0px 1px 2px rgba(0, 0, 0, 0.3));\n",
              "      fill: #FFFFFF;\n",
              "    }\n",
              "  </style>\n",
              "\n",
              "    <script>\n",
              "      const buttonEl =\n",
              "        document.querySelector('#df-e9595835-b9e1-4beb-a334-064d2c445c11 button.colab-df-convert');\n",
              "      buttonEl.style.display =\n",
              "        google.colab.kernel.accessAllowed ? 'block' : 'none';\n",
              "\n",
              "      async function convertToInteractive(key) {\n",
              "        const element = document.querySelector('#df-e9595835-b9e1-4beb-a334-064d2c445c11');\n",
              "        const dataTable =\n",
              "          await google.colab.kernel.invokeFunction('convertToInteractive',\n",
              "                                                    [key], {});\n",
              "        if (!dataTable) return;\n",
              "\n",
              "        const docLinkHtml = 'Like what you see? Visit the ' +\n",
              "          '<a target=\"_blank\" href=https://colab.research.google.com/notebooks/data_table.ipynb>data table notebook</a>'\n",
              "          + ' to learn more about interactive tables.';\n",
              "        element.innerHTML = '';\n",
              "        dataTable['output_type'] = 'display_data';\n",
              "        await google.colab.output.renderOutput(dataTable, element);\n",
              "        const docLink = document.createElement('div');\n",
              "        docLink.innerHTML = docLinkHtml;\n",
              "        element.appendChild(docLink);\n",
              "      }\n",
              "    </script>\n",
              "  </div>\n",
              "\n",
              "\n",
              "<div id=\"df-0f9cab05-2aea-415f-acac-8de415431b58\">\n",
              "  <button class=\"colab-df-quickchart\" onclick=\"quickchart('df-0f9cab05-2aea-415f-acac-8de415431b58')\"\n",
              "            title=\"Suggest charts\"\n",
              "            style=\"display:none;\">\n",
              "\n",
              "<svg xmlns=\"http://www.w3.org/2000/svg\" height=\"24px\"viewBox=\"0 0 24 24\"\n",
              "     width=\"24px\">\n",
              "    <g>\n",
              "        <path d=\"M19 3H5c-1.1 0-2 .9-2 2v14c0 1.1.9 2 2 2h14c1.1 0 2-.9 2-2V5c0-1.1-.9-2-2-2zM9 17H7v-7h2v7zm4 0h-2V7h2v10zm4 0h-2v-4h2v4z\"/>\n",
              "    </g>\n",
              "</svg>\n",
              "  </button>\n",
              "\n",
              "<style>\n",
              "  .colab-df-quickchart {\n",
              "      --bg-color: #E8F0FE;\n",
              "      --fill-color: #1967D2;\n",
              "      --hover-bg-color: #E2EBFA;\n",
              "      --hover-fill-color: #174EA6;\n",
              "      --disabled-fill-color: #AAA;\n",
              "      --disabled-bg-color: #DDD;\n",
              "  }\n",
              "\n",
              "  [theme=dark] .colab-df-quickchart {\n",
              "      --bg-color: #3B4455;\n",
              "      --fill-color: #D2E3FC;\n",
              "      --hover-bg-color: #434B5C;\n",
              "      --hover-fill-color: #FFFFFF;\n",
              "      --disabled-bg-color: #3B4455;\n",
              "      --disabled-fill-color: #666;\n",
              "  }\n",
              "\n",
              "  .colab-df-quickchart {\n",
              "    background-color: var(--bg-color);\n",
              "    border: none;\n",
              "    border-radius: 50%;\n",
              "    cursor: pointer;\n",
              "    display: none;\n",
              "    fill: var(--fill-color);\n",
              "    height: 32px;\n",
              "    padding: 0;\n",
              "    width: 32px;\n",
              "  }\n",
              "\n",
              "  .colab-df-quickchart:hover {\n",
              "    background-color: var(--hover-bg-color);\n",
              "    box-shadow: 0 1px 2px rgba(60, 64, 67, 0.3), 0 1px 3px 1px rgba(60, 64, 67, 0.15);\n",
              "    fill: var(--button-hover-fill-color);\n",
              "  }\n",
              "\n",
              "  .colab-df-quickchart-complete:disabled,\n",
              "  .colab-df-quickchart-complete:disabled:hover {\n",
              "    background-color: var(--disabled-bg-color);\n",
              "    fill: var(--disabled-fill-color);\n",
              "    box-shadow: none;\n",
              "  }\n",
              "\n",
              "  .colab-df-spinner {\n",
              "    border: 2px solid var(--fill-color);\n",
              "    border-color: transparent;\n",
              "    border-bottom-color: var(--fill-color);\n",
              "    animation:\n",
              "      spin 1s steps(1) infinite;\n",
              "  }\n",
              "\n",
              "  @keyframes spin {\n",
              "    0% {\n",
              "      border-color: transparent;\n",
              "      border-bottom-color: var(--fill-color);\n",
              "      border-left-color: var(--fill-color);\n",
              "    }\n",
              "    20% {\n",
              "      border-color: transparent;\n",
              "      border-left-color: var(--fill-color);\n",
              "      border-top-color: var(--fill-color);\n",
              "    }\n",
              "    30% {\n",
              "      border-color: transparent;\n",
              "      border-left-color: var(--fill-color);\n",
              "      border-top-color: var(--fill-color);\n",
              "      border-right-color: var(--fill-color);\n",
              "    }\n",
              "    40% {\n",
              "      border-color: transparent;\n",
              "      border-right-color: var(--fill-color);\n",
              "      border-top-color: var(--fill-color);\n",
              "    }\n",
              "    60% {\n",
              "      border-color: transparent;\n",
              "      border-right-color: var(--fill-color);\n",
              "    }\n",
              "    80% {\n",
              "      border-color: transparent;\n",
              "      border-right-color: var(--fill-color);\n",
              "      border-bottom-color: var(--fill-color);\n",
              "    }\n",
              "    90% {\n",
              "      border-color: transparent;\n",
              "      border-bottom-color: var(--fill-color);\n",
              "    }\n",
              "  }\n",
              "</style>\n",
              "\n",
              "  <script>\n",
              "    async function quickchart(key) {\n",
              "      const quickchartButtonEl =\n",
              "        document.querySelector('#' + key + ' button');\n",
              "      quickchartButtonEl.disabled = true;  // To prevent multiple clicks.\n",
              "      quickchartButtonEl.classList.add('colab-df-spinner');\n",
              "      try {\n",
              "        const charts = await google.colab.kernel.invokeFunction(\n",
              "            'suggestCharts', [key], {});\n",
              "      } catch (error) {\n",
              "        console.error('Error during call to suggestCharts:', error);\n",
              "      }\n",
              "      quickchartButtonEl.classList.remove('colab-df-spinner');\n",
              "      quickchartButtonEl.classList.add('colab-df-quickchart-complete');\n",
              "    }\n",
              "    (() => {\n",
              "      let quickchartButtonEl =\n",
              "        document.querySelector('#df-0f9cab05-2aea-415f-acac-8de415431b58 button');\n",
              "      quickchartButtonEl.style.display =\n",
              "        google.colab.kernel.accessAllowed ? 'block' : 'none';\n",
              "    })();\n",
              "  </script>\n",
              "</div>\n",
              "    </div>\n",
              "  </div>\n"
            ]
          },
          "metadata": {},
          "execution_count": 3
        }
      ],
      "source": [
        "dataframe.tail(10)"
      ]
    },
    {
      "cell_type": "markdown",
      "id": "45282aa0",
      "metadata": {
        "id": "45282aa0"
      },
      "source": [
        "# Separate the target variable from the features.\n",
        "---\n",
        "- Normal rhythms, which are labeled in this dataset as 1.\n",
        "- Abnornmal heart rhythms are labeled as 0."
      ]
    },
    {
      "cell_type": "code",
      "execution_count": 4,
      "id": "c82205e0",
      "metadata": {
        "id": "c82205e0"
      },
      "outputs": [],
      "source": [
        "# The last element contains the labels\n",
        "labels = raw_data[:, -1]"
      ]
    },
    {
      "cell_type": "code",
      "execution_count": 5,
      "id": "f7da1806",
      "metadata": {
        "colab": {
          "base_uri": "https://localhost:8080/"
        },
        "id": "f7da1806",
        "outputId": "6c3f082d-129c-4b18-ff05-686ac2a9bf66"
      },
      "outputs": [
        {
          "output_type": "execute_result",
          "data": {
            "text/plain": [
              "array([1., 1., 1., ..., 0., 0., 0.])"
            ]
          },
          "metadata": {},
          "execution_count": 5
        }
      ],
      "source": [
        "# Separate the normal rhythms from the abnormal rhythms.\n",
        "# Train the autoencoder using only the normal rhythms.\n",
        "# Test the autoencoder using only the abnormal rhythms\n",
        "labels"
      ]
    },
    {
      "cell_type": "markdown",
      "id": "71b4e866",
      "metadata": {
        "id": "71b4e866"
      },
      "source": [
        "# Separate the data to test and train\n",
        "---"
      ]
    },
    {
      "cell_type": "code",
      "execution_count": 6,
      "id": "9f7b003e",
      "metadata": {
        "id": "9f7b003e"
      },
      "outputs": [],
      "source": [
        "# The other data points are the electrocadriogram data\n",
        "data = raw_data[:, 0:-1]\n",
        "\n",
        "train_data, test_data, train_labels, test_labels = train_test_split(\n",
        "    data, labels, test_size=0.2, random_state=21\n",
        ")"
      ]
    },
    {
      "cell_type": "markdown",
      "id": "1174fa1f",
      "metadata": {
        "id": "1174fa1f"
      },
      "source": [
        "# Normalize the dataset\n",
        "---\n",
        "<font color=red><b>QUESTION</b></font>\n",
        "- When to use normalization as oppose to standardization?"
      ]
    },
    {
      "cell_type": "code",
      "execution_count": 7,
      "id": "bdaed647",
      "metadata": {
        "id": "bdaed647"
      },
      "outputs": [],
      "source": [
        "# Data normalization\n",
        "min_val = tf.reduce_min(train_data)\n",
        "max_val = tf.reduce_max(train_data)\n",
        "\n",
        "train_data = (train_data - min_val) / (max_val - min_val)\n",
        "test_data = (test_data - min_val) / (max_val - min_val)\n",
        "\n",
        "train_data = tf.cast(train_data, tf.float32)\n",
        "test_data = tf.cast(test_data, tf.float32)"
      ]
    },
    {
      "cell_type": "code",
      "execution_count": 8,
      "id": "bb2a2b7b",
      "metadata": {
        "id": "bb2a2b7b"
      },
      "outputs": [],
      "source": [
        "train_labels = train_labels.astype(bool)\n",
        "test_labels = test_labels.astype(bool)\n",
        "\n",
        "normal_train_data = train_data[train_labels]\n",
        "normal_test_data = test_data[test_labels]\n",
        "\n",
        "anomalous_train_data = train_data[~train_labels]\n",
        "anomalous_test_data = test_data[~test_labels]"
      ]
    },
    {
      "cell_type": "code",
      "execution_count": 9,
      "id": "72efb167",
      "metadata": {
        "colab": {
          "base_uri": "https://localhost:8080/",
          "height": 452
        },
        "id": "72efb167",
        "outputId": "f283eb1e-1def-466b-eaa4-b21cd94db993"
      },
      "outputs": [
        {
          "output_type": "display_data",
          "data": {
            "text/plain": [
              "<Figure size 640x480 with 1 Axes>"
            ],
            "image/png": "[encoded data removed]"
          },
          "metadata": {}
        }
      ],
      "source": [
        "plt.grid()\n",
        "plt.plot(np.arange(140), normal_train_data[0])\n",
        "plt.title(\"A Normal ECG\")\n",
        "plt.show()"
      ]
    },
    {
      "cell_type": "code",
      "execution_count": 10,
      "id": "c4dadfee",
      "metadata": {
        "colab": {
          "base_uri": "https://localhost:8080/",
          "height": 452
        },
        "id": "c4dadfee",
        "outputId": "fe899f34-a3af-4782-be26-f986b0ae1aca"
      },
      "outputs": [
        {
          "output_type": "display_data",
          "data": {
            "text/plain": [
              "<Figure size 640x480 with 1 Axes>"
            ],
            "image/png": "[encoded data removed]"
          },
          "metadata": {}
        }
      ],
      "source": [
        "plt.grid()\n",
        "plt.plot(np.arange(140), anomalous_train_data[0])\n",
        "plt.title(\"An Anomalous ECG\")\n",
        "plt.show()"
      ]
    },
    {
      "cell_type": "markdown",
      "id": "b52cfdbf",
      "metadata": {
        "id": "b52cfdbf"
      },
      "source": [
        "# Create the architecture of the autoencoder\n",
        "---\n",
        "- What are the parts and the purpose of each part of an autoencoder?"
      ]
    },
    {
      "cell_type": "code",
      "execution_count": 11,
      "id": "9d6d580b",
      "metadata": {
        "id": "9d6d580b"
      },
      "outputs": [],
      "source": [
        "class AnomalyDetector(Model):\n",
        "  def __init__(self):\n",
        "    super(AnomalyDetector, self).__init__()\n",
        "    self.encoder = tf.keras.Sequential([\n",
        "      layers.Dense(45, activation=\"relu\"),\n",
        "      layers.Dense(20, activation=\"relu\"),\n",
        "      layers.Dense(5, activation=\"relu\")])\n",
        "\n",
        "    self.decoder = tf.keras.Sequential([\n",
        "      layers.Dense(35, activation=\"relu\"),\n",
        "      layers.Dense(70, activation=\"relu\"),\n",
        "      layers.Dense(140, activation=\"sigmoid\")])\n",
        "\n",
        "  def call(self, x):\n",
        "    encoded = self.encoder(x)\n",
        "    decoded = self.decoder(encoded)\n",
        "    return decoded\n",
        "\n",
        "autoencoder = AnomalyDetector()"
      ]
    },
    {
      "cell_type": "code",
      "execution_count": 12,
      "id": "a64cf2a3",
      "metadata": {
        "id": "a64cf2a3"
      },
      "outputs": [],
      "source": [
        "autoencoder.compile(optimizer='adadelta', loss='mae')"
      ]
    },
    {
      "cell_type": "markdown",
      "id": "acc6571a",
      "metadata": {
        "id": "acc6571a"
      },
      "source": [
        "# Train your autoencoder architecture\n",
        "---"
      ]
    },
    {
      "cell_type": "code",
      "execution_count": 13,
      "id": "4dbc0cb6",
      "metadata": {
        "colab": {
          "base_uri": "https://localhost:8080/"
        },
        "id": "4dbc0cb6",
        "outputId": "cfef8dfe-b298-4b15-95eb-188bb90fbafa"
      },
      "outputs": [
        {
          "output_type": "stream",
          "name": "stdout",
          "text": [
            "Epoch 1/40\n",
            "2359/2359 [==============================] - 7s 3ms/step - loss: 0.0581 - val_loss: 0.0540\n",
            "Epoch 2/40\n",
            "2359/2359 [==============================] - 7s 3ms/step - loss: 0.0570 - val_loss: 0.0531\n",
            "Epoch 3/40\n",
            "2359/2359 [==============================] - 6s 2ms/step - loss: 0.0561 - val_loss: 0.0524\n",
            "Epoch 4/40\n",
            "2359/2359 [==============================] - 7s 3ms/step - loss: 0.0552 - val_loss: 0.0517\n",
            "Epoch 5/40\n",
            "2359/2359 [==============================] - 6s 2ms/step - loss: 0.0544 - val_loss: 0.0510\n",
            "Epoch 6/40\n",
            "2359/2359 [==============================] - 7s 3ms/step - loss: 0.0535 - val_loss: 0.0504\n",
            "Epoch 7/40\n",
            "2359/2359 [==============================] - 6s 2ms/step - loss: 0.0527 - val_loss: 0.0498\n",
            "Epoch 8/40\n",
            "2359/2359 [==============================] - 8s 3ms/step - loss: 0.0519 - val_loss: 0.0491\n",
            "Epoch 9/40\n",
            "2359/2359 [==============================] - 6s 2ms/step - loss: 0.0511 - val_loss: 0.0486\n",
            "Epoch 10/40\n",
            "2359/2359 [==============================] - 8s 3ms/step - loss: 0.0502 - val_loss: 0.0480\n",
            "Epoch 11/40\n",
            "2359/2359 [==============================] - 6s 2ms/step - loss: 0.0494 - val_loss: 0.0474\n",
            "Epoch 12/40\n",
            "2359/2359 [==============================] - 7s 3ms/step - loss: 0.0486 - val_loss: 0.0469\n",
            "Epoch 13/40\n",
            "2359/2359 [==============================] - 6s 3ms/step - loss: 0.0478 - val_loss: 0.0464\n",
            "Epoch 14/40\n",
            "2359/2359 [==============================] - 8s 3ms/step - loss: 0.0470 - val_loss: 0.0459\n",
            "Epoch 15/40\n",
            "2359/2359 [==============================] - 6s 3ms/step - loss: 0.0462 - val_loss: 0.0454\n",
            "Epoch 16/40\n",
            "2359/2359 [==============================] - 7s 3ms/step - loss: 0.0454 - val_loss: 0.0449\n",
            "Epoch 17/40\n",
            "2359/2359 [==============================] - 6s 2ms/step - loss: 0.0446 - val_loss: 0.0444\n",
            "Epoch 18/40\n",
            "2359/2359 [==============================] - 7s 3ms/step - loss: 0.0438 - val_loss: 0.0440\n",
            "Epoch 19/40\n",
            "2359/2359 [==============================] - 6s 2ms/step - loss: 0.0430 - val_loss: 0.0436\n",
            "Epoch 20/40\n",
            "2359/2359 [==============================] - 7s 3ms/step - loss: 0.0422 - val_loss: 0.0431\n",
            "Epoch 21/40\n",
            "2359/2359 [==============================] - 6s 2ms/step - loss: 0.0414 - val_loss: 0.0427\n",
            "Epoch 22/40\n",
            "2359/2359 [==============================] - 7s 3ms/step - loss: 0.0407 - val_loss: 0.0424\n",
            "Epoch 23/40\n",
            "2359/2359 [==============================] - 6s 2ms/step - loss: 0.0399 - val_loss: 0.0420\n",
            "Epoch 24/40\n",
            "2359/2359 [==============================] - 7s 3ms/step - loss: 0.0391 - val_loss: 0.0416\n",
            "Epoch 25/40\n",
            "2359/2359 [==============================] - 6s 2ms/step - loss: 0.0384 - val_loss: 0.0413\n",
            "Epoch 26/40\n",
            "2359/2359 [==============================] - 8s 3ms/step - loss: 0.0376 - val_loss: 0.0410\n",
            "Epoch 27/40\n",
            "2359/2359 [==============================] - 6s 2ms/step - loss: 0.0369 - val_loss: 0.0407\n",
            "Epoch 28/40\n",
            "2359/2359 [==============================] - 8s 3ms/step - loss: 0.0362 - val_loss: 0.0404\n",
            "Epoch 29/40\n",
            "2359/2359 [==============================] - 6s 2ms/step - loss: 0.0355 - val_loss: 0.0401\n",
            "Epoch 30/40\n",
            "2359/2359 [==============================] - 7s 3ms/step - loss: 0.0349 - val_loss: 0.0398\n",
            "Epoch 31/40\n",
            "2359/2359 [==============================] - 7s 3ms/step - loss: 0.0342 - val_loss: 0.0396\n",
            "Epoch 32/40\n",
            "2359/2359 [==============================] - 7s 3ms/step - loss: 0.0336 - val_loss: 0.0394\n",
            "Epoch 33/40\n",
            "2359/2359 [==============================] - 6s 2ms/step - loss: 0.0330 - val_loss: 0.0391\n",
            "Epoch 34/40\n",
            "2359/2359 [==============================] - 7s 3ms/step - loss: 0.0324 - val_loss: 0.0389\n",
            "Epoch 35/40\n",
            "2359/2359 [==============================] - 6s 3ms/step - loss: 0.0319 - val_loss: 0.0387\n",
            "Epoch 36/40\n",
            "2359/2359 [==============================] - 7s 3ms/step - loss: 0.0314 - val_loss: 0.0385\n",
            "Epoch 37/40\n",
            "2359/2359 [==============================] - 6s 3ms/step - loss: 0.0309 - val_loss: 0.0383\n",
            "Epoch 38/40\n",
            "2359/2359 [==============================] - 7s 3ms/step - loss: 0.0304 - val_loss: 0.0381\n",
            "Epoch 39/40\n",
            "2359/2359 [==============================] - 6s 3ms/step - loss: 0.0299 - val_loss: 0.0379\n",
            "Epoch 40/40\n",
            "2359/2359 [==============================] - 8s 4ms/step - loss: 0.0295 - val_loss: 0.0378\n"
          ]
        }
      ],
      "source": [
        "history = autoencoder.fit(normal_train_data, normal_train_data,\n",
        "          epochs=40,\n",
        "          batch_size=1,\n",
        "          validation_data=(test_data, test_data),\n",
        "          shuffle=True)"
      ]
    },
    {
      "cell_type": "markdown",
      "id": "1b66a68b",
      "metadata": {
        "id": "1b66a68b"
      },
      "source": [
        "# Plot the errors\n",
        "---"
      ]
    },
    {
      "cell_type": "code",
      "execution_count": 14,
      "id": "19392a53",
      "metadata": {
        "colab": {
          "base_uri": "https://localhost:8080/",
          "height": 447
        },
        "id": "19392a53",
        "outputId": "08ec6bb5-7078-40a8-803c-2e82c3a76db4"
      },
      "outputs": [
        {
          "output_type": "execute_result",
          "data": {
            "text/plain": [
              "<matplotlib.legend.Legend at 0x7ca6fedd33a0>"
            ]
          },
          "metadata": {},
          "execution_count": 14
        },
        {
          "output_type": "display_data",
          "data": {
            "text/plain": [
              "<Figure size 640x480 with 1 Axes>"
            ],
            "image/png": "[encoded data removed]"
          },
          "metadata": {}
        }
      ],
      "source": [
        "plt.plot(history.history[\"loss\"], label=\"Training Loss\")\n",
        "plt.plot(history.history[\"val_loss\"], label=\"Validation Loss\")\n",
        "plt.legend()"
      ]
    },
    {
      "cell_type": "markdown",
      "id": "b30c8caa",
      "metadata": {
        "id": "b30c8caa"
      },
      "source": [
        "# Question\n",
        "---\n",
        "- In reality trainnig loss should always be lower than validation loss, why?\n",
        "- What happens if validation loss is lower than the training loss?"
      ]
    },
    {
      "cell_type": "markdown",
      "id": "abf63151",
      "metadata": {
        "id": "abf63151"
      },
      "source": [
        "# Performance Testing from Training Data\n",
        "---\n",
        "- We can use our trained autoencoders to reconstruct the ECG signals.\n",
        "- Ideally out reconstructed signals shold look exactly the same as the training signal but in reality it is not due to some variation in the data.\n",
        "- We then create a \"reconstruction error\" This is an area that determines how close or how far the reconstructed data is to the  datatraining.\n",
        "- For medical settings the reconstruction error should be lower than 1 standard deviation of the training data.\n",
        "\n",
        "#### Detecting anomalies\n",
        "---\n",
        "- Detect anomalies by calculating whether the reconstruction loss is greater than a fixed threshold.\n",
        "- Determine the mean average error for normal examples from the training set, then classify future examples as anomalous if the reconstruction error is higher than one standard deviation from the training set.\n",
        "- Choose a threshold value that is one standard deviations above the mean."
      ]
    },
    {
      "cell_type": "code",
      "execution_count": 15,
      "id": "cb291e85",
      "metadata": {
        "colab": {
          "base_uri": "https://localhost:8080/",
          "height": 430
        },
        "id": "cb291e85",
        "outputId": "134c9a10-3235-417a-cee3-d86bb7a39747"
      },
      "outputs": [
        {
          "output_type": "display_data",
          "data": {
            "text/plain": [
              "<Figure size 640x480 with 1 Axes>"
            ],
            "image/png": "[encoded data removed]"
          },
          "metadata": {}
        }
      ],
      "source": [
        "encoded_data = autoencoder.encoder(normal_test_data).numpy()\n",
        "decoded_data = autoencoder.decoder(encoded_data).numpy()\n",
        "\n",
        "plt.plot(normal_test_data[0], 'b')\n",
        "plt.plot(decoded_data[0], 'r')\n",
        "plt.fill_between(np.arange(140), decoded_data[0], normal_test_data[0], color='lightcoral')\n",
        "plt.legend(labels=[\"Input\", \"Reconstruction\", \"Error\"])\n",
        "plt.show()"
      ]
    },
    {
      "cell_type": "code",
      "execution_count": 16,
      "id": "c37b628a",
      "metadata": {
        "colab": {
          "base_uri": "https://localhost:8080/",
          "height": 466
        },
        "id": "c37b628a",
        "outputId": "1944069e-9621-4e2f-d485-9aef516bad3e"
      },
      "outputs": [
        {
          "output_type": "stream",
          "name": "stdout",
          "text": [
            "74/74 [==============================] - 0s 2ms/step\n"
          ]
        },
        {
          "output_type": "display_data",
          "data": {
            "text/plain": [
              "<Figure size 640x480 with 1 Axes>"
            ],
            "image/png": "[encoded data removed]"
          },
          "metadata": {}
        }
      ],
      "source": [
        "reconstructions = autoencoder.predict(normal_train_data)\n",
        "train_loss = tf.keras.losses.mae(reconstructions, normal_train_data)\n",
        "\n",
        "plt.hist(train_loss[None,:], bins=50)\n",
        "plt.xlabel(\"Train loss\")\n",
        "plt.ylabel(\"No of examples\")\n",
        "plt.show()"
      ]
    },
    {
      "cell_type": "code",
      "execution_count": 17,
      "id": "bd1cc804",
      "metadata": {
        "colab": {
          "base_uri": "https://localhost:8080/"
        },
        "id": "bd1cc804",
        "outputId": "2509291a-4b1d-419f-8b8f-666f9219d33f"
      },
      "outputs": [
        {
          "output_type": "stream",
          "name": "stdout",
          "text": [
            "Threshold:  0.03863247\n"
          ]
        }
      ],
      "source": [
        "threshold = np.mean(train_loss) + np.std(train_loss)\n",
        "print(\"Threshold: \", threshold)"
      ]
    },
    {
      "cell_type": "markdown",
      "id": "ecc85ba3",
      "metadata": {
        "id": "ecc85ba3"
      },
      "source": [
        "# Generating Recommendations for Diagnosis (THIS IS <font color=red>NOT A DIAGNOSIS!</font>)\n",
        "---\n",
        "- Once the construction error is confirmed to be lower than 1 standard deviation form the training set, we can use the same concept towards the testing dataset.\n",
        "- Plot the testing dataset, and reconstruct the signal from the decoded layer of the autoencoders, and generate a reconstruction error."
      ]
    },
    {
      "cell_type": "code",
      "execution_count": 18,
      "id": "015d8418",
      "metadata": {
        "colab": {
          "base_uri": "https://localhost:8080/",
          "height": 430
        },
        "id": "015d8418",
        "outputId": "777dc015-3391-49b9-9174-3a6216672fa4"
      },
      "outputs": [
        {
          "output_type": "display_data",
          "data": {
            "text/plain": [
              "<Figure size 640x480 with 1 Axes>"
            ],
            "image/png": "[encoded data removed]"
          },
          "metadata": {}
        }
      ],
      "source": [
        "encoded_data = autoencoder.encoder(anomalous_test_data).numpy()\n",
        "decoded_data = autoencoder.decoder(encoded_data).numpy()\n",
        "\n",
        "plt.plot(anomalous_test_data[0], 'b')\n",
        "plt.plot(decoded_data[0], 'r')\n",
        "plt.fill_between(np.arange(140), decoded_data[0], anomalous_test_data[0], color='lightcoral')\n",
        "plt.legend(labels=[\"Input\", \"Reconstruction\", \"Error\"])\n",
        "plt.show()"
      ]
    },
    {
      "cell_type": "markdown",
      "id": "50912cbc",
      "metadata": {
        "id": "50912cbc"
      },
      "source": [
        "If you examine the reconstruction error for the anomalous examples in the test set, you'll notice most have greater reconstruction error than the threshold. By varing the threshold, you can adjust the precision and recall of your classifier."
      ]
    },
    {
      "cell_type": "code",
      "execution_count": 19,
      "id": "a0cacba8",
      "metadata": {
        "colab": {
          "base_uri": "https://localhost:8080/",
          "height": 466
        },
        "id": "a0cacba8",
        "outputId": "1847d99d-cc58-4d56-f2b8-43042b6c0573"
      },
      "outputs": [
        {
          "output_type": "stream",
          "name": "stdout",
          "text": [
            "14/14 [==============================] - 0s 5ms/step\n"
          ]
        },
        {
          "output_type": "display_data",
          "data": {
            "text/plain": [
              "<Figure size 640x480 with 1 Axes>"
            ],
            "image/png": "[encoded data removed]"
          },
          "metadata": {}
        }
      ],
      "source": [
        "reconstructions = autoencoder.predict(anomalous_test_data)\n",
        "test_loss = tf.keras.losses.mae(reconstructions, anomalous_test_data)\n",
        "\n",
        "plt.hist(test_loss[None, :], bins=50)\n",
        "plt.xlabel(\"Test loss\")\n",
        "plt.ylabel(\"No of examples\")\n",
        "plt.show()"
      ]
    },
    {
      "cell_type": "markdown",
      "id": "b8d5245a",
      "metadata": {
        "id": "b8d5245a"
      },
      "source": [
        "Classify an ECG as an anomaly if the reconstruction error is greater than the threshold."
      ]
    },
    {
      "cell_type": "code",
      "execution_count": 20,
      "id": "4f743a78",
      "metadata": {
        "id": "4f743a78"
      },
      "outputs": [],
      "source": [
        "def predict(model, data, threshold):\n",
        "  reconstructions = model(data)\n",
        "  loss = tf.keras.losses.mae(reconstructions, data)\n",
        "  return tf.math.less(loss, threshold)\n",
        "\n",
        "def print_stats(predictions, labels):\n",
        "  print(\"Accuracy = {}\".format(accuracy_score(labels, predictions)))\n",
        "  print(\"Precision = {}\".format(precision_score(labels, predictions)))\n",
        "  print(\"Recall = {}\".format(recall_score(labels, predictions)))"
      ]
    },
    {
      "cell_type": "code",
      "execution_count": 21,
      "id": "a34f927a",
      "metadata": {
        "colab": {
          "base_uri": "https://localhost:8080/"
        },
        "id": "a34f927a",
        "outputId": "cd041806-dadc-453d-b595-2506650d9d3e"
      },
      "outputs": [
        {
          "output_type": "stream",
          "name": "stdout",
          "text": [
            "Accuracy = 0.942\n",
            "Precision = 0.9883268482490273\n",
            "Recall = 0.9071428571428571\n"
          ]
        }
      ],
      "source": [
        "preds = predict(autoencoder, test_data, threshold)\n",
        "print_stats(preds, test_labels)"
      ]
    },
    {
      "cell_type": "markdown",
      "id": "a98169b9",
      "metadata": {
        "id": "a98169b9"
      },
      "source": [
        "# Coding Experiments\n",
        "- Holding the autoencoder architecture constant. What would happen to the performance if you chosed other data transformation? Experiment using standardization, and log transformation, minmax scaler.\n",
        "- Holding the autoencoder architecture constant. What would happen to the performance if the label data were not transformed into boolean?\n",
        "- Holding the autoencoder architecture constant. What would the behavior of the error reconstruction if a different optimizer was used? (choose only one optimizer from https://www.tensorflow.org/api_docs/python/tf/keras/optimizers)\n",
        "- Holding the autoencoder architecture constant. Try using binary cross entropy as a loss function and compare its reconstruction error to the original loss function.\n",
        "- Try experimenting with the autoencoder architecture and record the result, for which new architecture has the lowest reconstruction error? Try playing around with:\n",
        "    - Different activation functions: https://www.tensorflow.org/api_docs/python/tf/keras/activations\n",
        "    - Different loss functions: https://www.tensorflow.org/api_docs/python/tf/keras/activations\n",
        "    - Try adding some dropout during training the model: https://www.tensorflow.org/api_docs/python/tf/keras/layers/Dropout\n",
        "    - Increasing or decreasing the units per layer.\n",
        "    - Increasing or decreaing the number of layers."
      ]
    }
  ],
  "metadata": {
    "kernelspec": {
      "display_name": "Python 3 (ipykernel)",
      "language": "python",
      "name": "python3"
    },
    "language_info": {
      "codemirror_mode": {
        "name": "ipython",
        "version": 3
      },
      "file_extension": ".py",
      "mimetype": "text/x-python",
      "name": "python",
      "nbconvert_exporter": "python",
      "pygments_lexer": "ipython3",
      "version": "3.11.1"
    },
    "colab": {
      "provenance": []
    }
  },
  "nbformat": 4,
  "nbformat_minor": 5
}