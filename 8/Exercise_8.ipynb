{
  "cells": [
    {
      "cell_type": "markdown",
      "metadata": {
        "id": "DbMaqKjRUh4L"
      },
      "source": [
        "# Clustering Activity"
      ]
    },
    {
      "cell_type": "code",
      "source": [
        "!pip install -U scikit-fuzzy"
      ],
      "metadata": {
        "colab": {
          "base_uri": "https://localhost:8080/"
        },
        "id": "zxA9TCt1UuPj",
        "outputId": "34da20f2-6fec-4b43-cf9b-13208e32f781"
      },
      "execution_count": 2,
      "outputs": [
        {
          "output_type": "stream",
          "name": "stdout",
          "text": [
            "Collecting scikit-fuzzy\n",
            "  Downloading scikit-fuzzy-0.4.2.tar.gz (993 kB)\n",
            "\u001b[2K     \u001b[90m━━━━━━━━━━━━━━━━━━━━━━━━━━━━━━━━━━━━━━━━\u001b[0m \u001b[32m994.0/994.0 kB\u001b[0m \u001b[31m12.7 MB/s\u001b[0m eta \u001b[36m0:00:00\u001b[0m\n",
            "\u001b[?25h  Preparing metadata (setup.py) ... \u001b[?25l\u001b[?25hdone\n",
            "Requirement already satisfied: numpy>=1.6.0 in /usr/local/lib/python3.10/dist-packages (from scikit-fuzzy) (1.23.5)\n",
            "Requirement already satisfied: scipy>=0.9.0 in /usr/local/lib/python3.10/dist-packages (from scikit-fuzzy) (1.11.4)\n",
            "Requirement already satisfied: networkx>=1.9.0 in /usr/local/lib/python3.10/dist-packages (from scikit-fuzzy) (3.2.1)\n",
            "Building wheels for collected packages: scikit-fuzzy\n",
            "  Building wheel for scikit-fuzzy (setup.py) ... \u001b[?25l\u001b[?25hdone\n",
            "  Created wheel for scikit-fuzzy: filename=scikit_fuzzy-0.4.2-py3-none-any.whl size=894077 sha256=beb1ee10558f2b9266dcc6e22f624769637ef32305d4d56d46b5ef8fe111eb75\n",
            "  Stored in directory: /root/.cache/pip/wheels/4f/86/1b/dfd97134a2c8313e519bcebd95d3fedc7be7944db022094bc8\n",
            "Successfully built scikit-fuzzy\n",
            "Installing collected packages: scikit-fuzzy\n",
            "Successfully installed scikit-fuzzy-0.4.2\n"
          ]
        }
      ]
    },
    {
      "cell_type": "code",
      "execution_count": 17,
      "metadata": {
        "id": "WcFT-FRWUh4Q"
      },
      "outputs": [],
      "source": [
        "# Import necessary libraries\n",
        "from sklearn.datasets import make_blobs\n",
        "from sklearn.cluster import KMeans, AgglomerativeClustering, SpectralClustering\n",
        "from sklearn.metrics import adjusted_rand_score, silhouette_score\n",
        "import skfuzzy.cluster as fuzz\n",
        "import numpy as np\n",
        "\n",
        "# Generate a hypothetical dataset\n",
        "X, y_true = make_blobs(n_samples=300, centers=4, random_state=42, cluster_std=1.0)"
      ]
    },
    {
      "cell_type": "markdown",
      "metadata": {
        "id": "wy_SMDQEUh4U"
      },
      "source": [
        "Exercise: Evaluate four clustering algorithms (K-Means, Fuzzy C-Means, Spectral, and Agglomerative)\n",
        "1. Apply each clustering algorithm to the dataset where:\n",
        "- cluster_count = 4\n",
        "- random_state = 42 (where applicable)\n",
        "- do not specify affinity, metric, algo, init, linkage (if applicable)\n",
        "2. Use the **Adjusted Rand index** and **Silhouette Score** to evaluate the clustering performance.\n",
        "3. Compare the performance of the algorithms based on the aforementioned metrics and decide which algorithm is best suited for the data given."
      ]
    },
    {
      "cell_type": "code",
      "execution_count": 18,
      "metadata": {
        "colab": {
          "base_uri": "https://localhost:8080/"
        },
        "id": "W1zVodnNUh4V",
        "outputId": "767c3c44-9faf-4233-dbe8-5117534091a6"
      },
      "outputs": [
        {
          "output_type": "stream",
          "name": "stderr",
          "text": [
            "/usr/local/lib/python3.10/dist-packages/sklearn/cluster/_kmeans.py:870: FutureWarning: The default value of `n_init` will change from 10 to 'auto' in 1.4. Set the value of `n_init` explicitly to suppress the warning\n",
            "  warnings.warn(\n"
          ]
        }
      ],
      "source": [
        "# K-means Clustering\n",
        "kmeans = KMeans(n_clusters=4, random_state=42)\n",
        "kmeans_labels = kmeans.fit_predict(X)\n",
        "kmeans_ari = adjusted_rand_score(y_true, kmeans_labels)\n",
        "kmeans_silhouette = silhouette_score(X, kmeans_labels)\n"
      ]
    },
    {
      "cell_type": "code",
      "source": [
        "# Apply Fuzzy C-Means clustering\n",
        "fuzzy_cmeans_centers, fuzzy_cmeans_labels, _, _, _, _, _ = fuzz.cmeans(X.T, 4, 2, error=0.005, maxiter=1000)\n",
        "fuzzy_cmeans_labels = np.argmax(fuzzy_cmeans_labels, axis=0)\n",
        "fuzzy_cmeans_ari = adjusted_rand_score(y_true, fuzzy_cmeans_labels)\n",
        "fuzzy_cmeans_silhouette = silhouette_score(X, fuzzy_cmeans_labels)\n"
      ],
      "metadata": {
        "id": "qh6GcuNhVnVQ"
      },
      "execution_count": 19,
      "outputs": []
    },
    {
      "cell_type": "code",
      "source": [
        "# Spectral clustering\n",
        "spectral = SpectralClustering(n_clusters=4, random_state=42)\n",
        "spectral_labels = spectral.fit_predict(X)\n",
        "spectral_ari = adjusted_rand_score(y_true, spectral_labels)\n",
        "spectral_silhouette = silhouette_score(X, spectral_labels)"
      ],
      "metadata": {
        "id": "N1NvTyxTU4qJ"
      },
      "execution_count": 20,
      "outputs": []
    },
    {
      "cell_type": "code",
      "source": [
        "# Agglomerative clustering\n",
        "agglomerative = AgglomerativeClustering(n_clusters=4)\n",
        "agglomerative_labels = agglomerative.fit_predict(X)\n",
        "agglomerative_ari = adjusted_rand_score(y_true, agglomerative_labels)\n",
        "agglomerative_silhouette = silhouette_score(X, agglomerative_labels)\n"
      ],
      "metadata": {
        "id": "KU0kjLbEVUNu"
      },
      "execution_count": 21,
      "outputs": []
    },
    {
      "cell_type": "code",
      "source": [
        "print(\"K-Means - ARI:\", kmeans_ari, \"Silhouette:\", kmeans_silhouette)\n",
        "print(\"Fuzzy C-Means - ARI:\", fuzzy_cmeans_ari, \"Silhouette:\", fuzzy_cmeans_silhouette)\n",
        "print(\"Spectral Clustering - ARI:\", spectral_ari, \"Silhouette:\", spectral_silhouette)\n",
        "print(\"Agglomerative Clustering - ARI:\", agglomerative_ari, \"Silhouette:\", agglomerative_silhouette)\n"
      ],
      "metadata": {
        "colab": {
          "base_uri": "https://localhost:8080/"
        },
        "id": "YzMDWG51VawB",
        "outputId": "df96b858-74bd-4d42-a3a6-143319ab12d5"
      },
      "execution_count": 22,
      "outputs": [
        {
          "output_type": "stream",
          "name": "stdout",
          "text": [
            "K-Means - ARI: 0.9910811504997546 Silhouette: 0.7915830011443039\n",
            "Fuzzy C-Means - ARI: 0.9910811504997546 Silhouette: 0.7915830011443039\n",
            "Spectral Clustering - ARI: 0.9910811504997546 Silhouette: 0.7915830011443039\n",
            "Agglomerative Clustering - ARI: 0.9910811504997546 Silhouette: 0.7915830011443039\n"
          ]
        }
      ]
    }
  ],
  "metadata": {
    "language_info": {
      "name": "python"
    },
    "colab": {
      "provenance": []
    },
    "kernelspec": {
      "name": "python3",
      "display_name": "Python 3"
    }
  },
  "nbformat": 4,
  "nbformat_minor": 0
}