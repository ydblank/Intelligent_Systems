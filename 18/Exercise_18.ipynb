{
  "cells": [
    {
      "cell_type": "code",
      "execution_count": 1,
      "id": "cfd75073",
      "metadata": {
        "colab": {
          "base_uri": "https://localhost:8080/"
        },
        "id": "cfd75073",
        "outputId": "8e5e429b-7d6b-486a-d4d5-b9ab620582e0"
      },
      "outputs": [
        {
          "output_type": "stream",
          "name": "stdout",
          "text": [
            "Requirement already satisfied: spacy in /usr/local/lib/python3.10/dist-packages (3.6.1)\n",
            "Requirement already satisfied: spacy-legacy<3.1.0,>=3.0.11 in /usr/local/lib/python3.10/dist-packages (from spacy) (3.0.12)\n",
            "Requirement already satisfied: spacy-loggers<2.0.0,>=1.0.0 in /usr/local/lib/python3.10/dist-packages (from spacy) (1.0.5)\n",
            "Requirement already satisfied: murmurhash<1.1.0,>=0.28.0 in /usr/local/lib/python3.10/dist-packages (from spacy) (1.0.10)\n",
            "Requirement already satisfied: cymem<2.1.0,>=2.0.2 in /usr/local/lib/python3.10/dist-packages (from spacy) (2.0.8)\n",
            "Requirement already satisfied: preshed<3.1.0,>=3.0.2 in /usr/local/lib/python3.10/dist-packages (from spacy) (3.0.9)\n",
            "Requirement already satisfied: thinc<8.2.0,>=8.1.8 in /usr/local/lib/python3.10/dist-packages (from spacy) (8.1.12)\n",
            "Requirement already satisfied: wasabi<1.2.0,>=0.9.1 in /usr/local/lib/python3.10/dist-packages (from spacy) (1.1.2)\n",
            "Requirement already satisfied: srsly<3.0.0,>=2.4.3 in /usr/local/lib/python3.10/dist-packages (from spacy) (2.4.8)\n",
            "Requirement already satisfied: catalogue<2.1.0,>=2.0.6 in /usr/local/lib/python3.10/dist-packages (from spacy) (2.0.10)\n",
            "Requirement already satisfied: typer<0.10.0,>=0.3.0 in /usr/local/lib/python3.10/dist-packages (from spacy) (0.9.0)\n",
            "Requirement already satisfied: pathy>=0.10.0 in /usr/local/lib/python3.10/dist-packages (from spacy) (0.10.3)\n",
            "Requirement already satisfied: smart-open<7.0.0,>=5.2.1 in /usr/local/lib/python3.10/dist-packages (from spacy) (6.4.0)\n",
            "Requirement already satisfied: tqdm<5.0.0,>=4.38.0 in /usr/local/lib/python3.10/dist-packages (from spacy) (4.66.1)\n",
            "Requirement already satisfied: numpy>=1.15.0 in /usr/local/lib/python3.10/dist-packages (from spacy) (1.23.5)\n",
            "Requirement already satisfied: requests<3.0.0,>=2.13.0 in /usr/local/lib/python3.10/dist-packages (from spacy) (2.31.0)\n",
            "Requirement already satisfied: pydantic!=1.8,!=1.8.1,<3.0.0,>=1.7.4 in /usr/local/lib/python3.10/dist-packages (from spacy) (1.10.13)\n",
            "Requirement already satisfied: jinja2 in /usr/local/lib/python3.10/dist-packages (from spacy) (3.1.2)\n",
            "Requirement already satisfied: setuptools in /usr/local/lib/python3.10/dist-packages (from spacy) (67.7.2)\n",
            "Requirement already satisfied: packaging>=20.0 in /usr/local/lib/python3.10/dist-packages (from spacy) (23.2)\n",
            "Requirement already satisfied: langcodes<4.0.0,>=3.2.0 in /usr/local/lib/python3.10/dist-packages (from spacy) (3.3.0)\n",
            "Requirement already satisfied: typing-extensions>=4.2.0 in /usr/local/lib/python3.10/dist-packages (from pydantic!=1.8,!=1.8.1,<3.0.0,>=1.7.4->spacy) (4.5.0)\n",
            "Requirement already satisfied: charset-normalizer<4,>=2 in /usr/local/lib/python3.10/dist-packages (from requests<3.0.0,>=2.13.0->spacy) (3.3.2)\n",
            "Requirement already satisfied: idna<4,>=2.5 in /usr/local/lib/python3.10/dist-packages (from requests<3.0.0,>=2.13.0->spacy) (3.6)\n",
            "Requirement already satisfied: urllib3<3,>=1.21.1 in /usr/local/lib/python3.10/dist-packages (from requests<3.0.0,>=2.13.0->spacy) (2.0.7)\n",
            "Requirement already satisfied: certifi>=2017.4.17 in /usr/local/lib/python3.10/dist-packages (from requests<3.0.0,>=2.13.0->spacy) (2023.11.17)\n",
            "Requirement already satisfied: blis<0.8.0,>=0.7.8 in /usr/local/lib/python3.10/dist-packages (from thinc<8.2.0,>=8.1.8->spacy) (0.7.11)\n",
            "Requirement already satisfied: confection<1.0.0,>=0.0.1 in /usr/local/lib/python3.10/dist-packages (from thinc<8.2.0,>=8.1.8->spacy) (0.1.4)\n",
            "Requirement already satisfied: click<9.0.0,>=7.1.1 in /usr/local/lib/python3.10/dist-packages (from typer<0.10.0,>=0.3.0->spacy) (8.1.7)\n",
            "Requirement already satisfied: MarkupSafe>=2.0 in /usr/local/lib/python3.10/dist-packages (from jinja2->spacy) (2.1.3)\n",
            "Requirement already satisfied: gensim in /usr/local/lib/python3.10/dist-packages (4.3.2)\n",
            "Requirement already satisfied: numpy>=1.18.5 in /usr/local/lib/python3.10/dist-packages (from gensim) (1.23.5)\n",
            "Requirement already satisfied: scipy>=1.7.0 in /usr/local/lib/python3.10/dist-packages (from gensim) (1.11.4)\n",
            "Requirement already satisfied: smart-open>=1.8.1 in /usr/local/lib/python3.10/dist-packages (from gensim) (6.4.0)\n"
          ]
        }
      ],
      "source": [
        "%pip install spacy\n",
        "%pip install gensim"
      ]
    },
    {
      "cell_type": "code",
      "execution_count": 2,
      "id": "6b481af9-3e7a-4407-8bde-8d01b5d3b738",
      "metadata": {
        "colab": {
          "base_uri": "https://localhost:8080/"
        },
        "id": "6b481af9-3e7a-4407-8bde-8d01b5d3b738",
        "outputId": "b29a507f-a14a-435f-d4bd-05c31d5421ae"
      },
      "outputs": [
        {
          "output_type": "stream",
          "name": "stdout",
          "text": [
            "\u001b[38;5;2m✔ Download and installation successful\u001b[0m\n",
            "You can now load the package via spacy.load('en_core_web_sm')\n"
          ]
        }
      ],
      "source": [
        "# Import necessary libraries\n",
        "import spacy\n",
        "import gensim\n",
        "from gensim import corpora\n",
        "from pprint import pprint\n",
        "\n",
        "# Download spaCy's English NLP model\n",
        "spacy.cli.download(\"en_core_web_sm\")\n",
        "\n",
        "# Load spaCy's English NLP model\n",
        "nlp = spacy.load('en_core_web_sm')\n"
      ]
    },
    {
      "cell_type": "markdown",
      "id": "56591d37-365b-4b44-b0a2-f00900104823",
      "metadata": {
        "id": "56591d37-365b-4b44-b0a2-f00900104823"
      },
      "source": [
        "# Documents"
      ]
    },
    {
      "cell_type": "code",
      "execution_count": 4,
      "id": "f72f3c3a-5ca9-4272-8d27-c5af9b0754c1",
      "metadata": {
        "id": "f72f3c3a-5ca9-4272-8d27-c5af9b0754c1"
      },
      "outputs": [],
      "source": [
        "#\n",
        "documents = [\n",
        "    \"Machine learning involves algorithms that improve automatically through experience.\",\n",
        "    \"Deep learning is a subset of machine learning based on artificial neural networks.\",\n",
        "    \"I am ironman\",\n",
        "    \"I am the eggman\",\n",
        "    \"I am the Walrus\"\n",
        "]"
      ]
    },
    {
      "cell_type": "markdown",
      "id": "6b04ad12-95ea-4a0a-ac49-f4ee9fbaeee2",
      "metadata": {
        "id": "6b04ad12-95ea-4a0a-ac49-f4ee9fbaeee2"
      },
      "source": [
        "# Preprocess the documents"
      ]
    },
    {
      "cell_type": "code",
      "execution_count": 6,
      "id": "a97f87a2-a9f4-4557-aef6-c921bda4e2b6",
      "metadata": {
        "id": "a97f87a2-a9f4-4557-aef6-c921bda4e2b6"
      },
      "outputs": [],
      "source": [
        "\n",
        "def preprocess(text):\n",
        "    # Tokenize and lemmatize using spaCy\n",
        "    doc = nlp(text)\n",
        "    tokens = [token.lemma_ for token in doc if not token.is_stop and token.is_alpha]\n",
        "    return tokens\n",
        "\n",
        "# Apply preprocessing to all documents\n",
        "processed_documents = [preprocess(doc) for doc in documents]\n",
        "\n",
        "# Create a dictionary and corpus for LDA\n",
        "dictionary = corpora.Dictionary(processed_documents)\n",
        "corpus = [dictionary.doc2bow(doc) for doc in processed_documents]\n",
        "\n",
        "# Build LDA model\n",
        "lda_model = gensim.models.LdaModel(corpus, num_topics=5, id2word=dictionary, passes=18)\n",
        "\n"
      ]
    },
    {
      "cell_type": "markdown",
      "id": "05542fa2-2765-4327-bb81-27e6b2d629ef",
      "metadata": {
        "id": "05542fa2-2765-4327-bb81-27e6b2d629ef"
      },
      "source": [
        "# Print topics and their keywords"
      ]
    },
    {
      "cell_type": "code",
      "execution_count": 7,
      "id": "1f567bec-dfdf-4dd8-80b3-169eb11aa978",
      "metadata": {
        "colab": {
          "base_uri": "https://localhost:8080/"
        },
        "id": "1f567bec-dfdf-4dd8-80b3-169eb11aa978",
        "outputId": "2c3e0e76-22cf-48c7-e639-22ade49b9126"
      },
      "outputs": [
        {
          "output_type": "stream",
          "name": "stdout",
          "text": [
            "[(0,\n",
            "  '0.118*\"machine\" + 0.118*\"experience\" + 0.118*\"improve\" + '\n",
            "  '0.118*\"automatically\" + 0.118*\"involve\" + 0.118*\"algorithm\" + '\n",
            "  '0.118*\"learning\" + 0.020*\"eggman\" + 0.020*\"ironman\" + 0.020*\"Walrus\"'),\n",
            " (1,\n",
            "  '0.231*\"Walrus\" + 0.231*\"ironman\" + 0.038*\"eggman\" + 0.038*\"machine\" + '\n",
            "  '0.038*\"learning\" + 0.038*\"neural\" + 0.038*\"improve\" + 0.038*\"subset\" + '\n",
            "  '0.038*\"automatically\" + 0.038*\"algorithm\"'),\n",
            " (2,\n",
            "  '0.063*\"eggman\" + 0.063*\"ironman\" + 0.063*\"Walrus\" + 0.062*\"machine\" + '\n",
            "  '0.062*\"learning\" + 0.062*\"network\" + 0.062*\"automatically\" + '\n",
            "  '0.062*\"artificial\" + 0.062*\"involve\" + 0.062*\"neural\"'),\n",
            " (3,\n",
            "  '0.167*\"learning\" + 0.091*\"base\" + 0.091*\"deep\" + 0.091*\"artificial\" + '\n",
            "  '0.091*\"network\" + 0.091*\"subset\" + 0.091*\"neural\" + 0.091*\"machine\" + '\n",
            "  '0.091*\"eggman\" + 0.015*\"ironman\"'),\n",
            " (4,\n",
            "  '0.063*\"eggman\" + 0.063*\"ironman\" + 0.063*\"Walrus\" + 0.062*\"machine\" + '\n",
            "  '0.062*\"learning\" + 0.062*\"algorithm\" + 0.062*\"involve\" + 0.062*\"neural\" + '\n",
            "  '0.062*\"artificial\" + 0.062*\"network\"')]\n"
          ]
        }
      ],
      "source": [
        "pprint(lda_model.print_topics())"
      ]
    },
    {
      "cell_type": "markdown",
      "id": "000de19a-8dd4-40e5-966b-25442d67ce78",
      "metadata": {
        "id": "000de19a-8dd4-40e5-966b-25442d67ce78"
      },
      "source": [
        "# Assign topics to documents"
      ]
    },
    {
      "cell_type": "code",
      "execution_count": 8,
      "id": "da343547-03b4-41b6-b1b6-1faba58a87a5",
      "metadata": {
        "colab": {
          "base_uri": "https://localhost:8080/"
        },
        "id": "da343547-03b4-41b6-b1b6-1faba58a87a5",
        "outputId": "e623186b-99b1-42f6-9e7a-8c67d5ecf5ab"
      },
      "outputs": [
        {
          "output_type": "stream",
          "name": "stdout",
          "text": [
            "Document 1 - Topic: [(0, 0.89970374), (1, 0.025009206), (2, 0.02501596), (3, 0.02525514), (4, 0.02501596)]\n",
            "Document 2 - Topic: [(0, 0.020151647), (1, 0.020008352), (2, 0.02001448), (3, 0.919811), (4, 0.02001448)]\n",
            "Document 3 - Topic: [(0, 0.10001111), (1, 0.5999011), (2, 0.10003966), (3, 0.1000085), (4, 0.10003966)]\n",
            "Document 4 - Topic: [(0, 0.100030094), (1, 0.1000621), (2, 0.10010874), (3, 0.5996905), (4, 0.100108586)]\n",
            "Document 5 - Topic: [(0, 0.10001111), (1, 0.5999011), (2, 0.100039646), (3, 0.1000085), (4, 0.10003965)]\n"
          ]
        }
      ],
      "source": [
        "# Assign topics to documents\n",
        "for i, doc in enumerate(processed_documents):\n",
        "    print(f\"Document {i+1} - Topic: {lda_model.get_document_topics(corpus[i])}\")"
      ]
    },
    {
      "cell_type": "markdown",
      "id": "17631d05-4439-4d2d-a59a-fe43b98bf5f9",
      "metadata": {
        "id": "17631d05-4439-4d2d-a59a-fe43b98bf5f9"
      },
      "source": [
        "#                   "
      ]
    }
  ],
  "metadata": {
    "kernelspec": {
      "display_name": "Python 3 (ipykernel)",
      "language": "python",
      "name": "python3"
    },
    "language_info": {
      "codemirror_mode": {
        "name": "ipython",
        "version": 3
      },
      "file_extension": ".py",
      "mimetype": "text/x-python",
      "name": "python",
      "nbconvert_exporter": "python",
      "pygments_lexer": "ipython3",
      "version": "3.11.1"
    },
    "colab": {
      "provenance": []
    }
  },
  "nbformat": 4,
  "nbformat_minor": 5
}