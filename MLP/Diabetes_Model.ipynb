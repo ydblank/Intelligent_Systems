{
 "cells": [
  {
   "cell_type": "markdown",
   "id": "77b8f23e-98ec-4b93-85dc-c29fb9cd2b7d",
   "metadata": {},
   "source": [
    "# Diabetes Prediction Model by Jose Glen Samson"
   ]
  },
  {
   "cell_type": "markdown",
   "id": "8a2332a3-bb69-4e6f-80de-e8f102f802e5",
   "metadata": {},
   "source": [
    "Instructions:\n",
    "- Use the dataset: https://www.kaggle.com/datasets/iammustafatz/diabetes-prediction-dataset.\n",
    "- Experiment with the number of hidden layers, and the number of units in the hidden layer.\n",
    "- Try to experiment on the activation functions in the hidden layer https://www.tensorflow.org/api_docs/python/tf/keras/activations\n",
    "- Try to experiment with the optimizer: https://www.tensorflow.org/api_docs/python/tf/keras/optimizers\n",
    "- Check the accuracy, specificity, and sensitivity of your model."
   ]
  },
  {
   "cell_type": "markdown",
   "id": "e482ad07-b074-4204-bebc-5e10ea752d7c",
   "metadata": {},
   "source": [
    "### Import"
   ]
  },
  {
   "cell_type": "code",
   "execution_count": 6,
   "id": "fd1abfa8-768d-4b68-b272-339324501cbe",
   "metadata": {},
   "outputs": [],
   "source": [
    "import numpy as np\n",
    "import pandas as pd\n",
    "import tensorflow as tf\n",
    "from sklearn.model_selection import train_test_split\n",
    "from sklearn.preprocessing import StandardScaler, LabelEncoder"
   ]
  },
  {
   "cell_type": "markdown",
   "id": "57a9c888-b407-416c-931b-0faa127cf857",
   "metadata": {},
   "source": [
    "## Part 1 - Data Preprocessing"
   ]
  },
  {
   "cell_type": "markdown",
   "id": "9037c7d2-40fe-41c6-b314-0cc9e359fe7f",
   "metadata": {},
   "source": [
    "### Importing the dataset"
   ]
  },
  {
   "cell_type": "code",
   "execution_count": 2,
   "id": "be3d7659-7820-45c5-8783-f43a9744716d",
   "metadata": {},
   "outputs": [],
   "source": [
    "dataset = pd.read_csv('diabetes_prediction_dataset.csv')"
   ]
  },
  {
   "cell_type": "code",
   "execution_count": 3,
   "id": "15d5de7c-c22f-4c7c-b012-d0d5f0e081e8",
   "metadata": {},
   "outputs": [
    {
     "data": {
      "text/html": [
       "<div>\n",
       "<style scoped>\n",
       "    .dataframe tbody tr th:only-of-type {\n",
       "        vertical-align: middle;\n",
       "    }\n",
       "\n",
       "    .dataframe tbody tr th {\n",
       "        vertical-align: top;\n",
       "    }\n",
       "\n",
       "    .dataframe thead th {\n",
       "        text-align: right;\n",
       "    }\n",
       "</style>\n",
       "<table border=\"1\" class=\"dataframe\">\n",
       "  <thead>\n",
       "    <tr style=\"text-align: right;\">\n",
       "      <th></th>\n",
       "      <th>gender</th>\n",
       "      <th>age</th>\n",
       "      <th>hypertension</th>\n",
       "      <th>heart_disease</th>\n",
       "      <th>smoking_history</th>\n",
       "      <th>bmi</th>\n",
       "      <th>HbA1c_level</th>\n",
       "      <th>blood_glucose_level</th>\n",
       "      <th>diabetes</th>\n",
       "    </tr>\n",
       "  </thead>\n",
       "  <tbody>\n",
       "    <tr>\n",
       "      <th>0</th>\n",
       "      <td>Female</td>\n",
       "      <td>80.0</td>\n",
       "      <td>0</td>\n",
       "      <td>1</td>\n",
       "      <td>never</td>\n",
       "      <td>25.19</td>\n",
       "      <td>6.6</td>\n",
       "      <td>140</td>\n",
       "      <td>0</td>\n",
       "    </tr>\n",
       "    <tr>\n",
       "      <th>1</th>\n",
       "      <td>Female</td>\n",
       "      <td>54.0</td>\n",
       "      <td>0</td>\n",
       "      <td>0</td>\n",
       "      <td>No Info</td>\n",
       "      <td>27.32</td>\n",
       "      <td>6.6</td>\n",
       "      <td>80</td>\n",
       "      <td>0</td>\n",
       "    </tr>\n",
       "    <tr>\n",
       "      <th>2</th>\n",
       "      <td>Male</td>\n",
       "      <td>28.0</td>\n",
       "      <td>0</td>\n",
       "      <td>0</td>\n",
       "      <td>never</td>\n",
       "      <td>27.32</td>\n",
       "      <td>5.7</td>\n",
       "      <td>158</td>\n",
       "      <td>0</td>\n",
       "    </tr>\n",
       "    <tr>\n",
       "      <th>3</th>\n",
       "      <td>Female</td>\n",
       "      <td>36.0</td>\n",
       "      <td>0</td>\n",
       "      <td>0</td>\n",
       "      <td>current</td>\n",
       "      <td>23.45</td>\n",
       "      <td>5.0</td>\n",
       "      <td>155</td>\n",
       "      <td>0</td>\n",
       "    </tr>\n",
       "    <tr>\n",
       "      <th>4</th>\n",
       "      <td>Male</td>\n",
       "      <td>76.0</td>\n",
       "      <td>1</td>\n",
       "      <td>1</td>\n",
       "      <td>current</td>\n",
       "      <td>20.14</td>\n",
       "      <td>4.8</td>\n",
       "      <td>155</td>\n",
       "      <td>0</td>\n",
       "    </tr>\n",
       "    <tr>\n",
       "      <th>...</th>\n",
       "      <td>...</td>\n",
       "      <td>...</td>\n",
       "      <td>...</td>\n",
       "      <td>...</td>\n",
       "      <td>...</td>\n",
       "      <td>...</td>\n",
       "      <td>...</td>\n",
       "      <td>...</td>\n",
       "      <td>...</td>\n",
       "    </tr>\n",
       "    <tr>\n",
       "      <th>99995</th>\n",
       "      <td>Female</td>\n",
       "      <td>80.0</td>\n",
       "      <td>0</td>\n",
       "      <td>0</td>\n",
       "      <td>No Info</td>\n",
       "      <td>27.32</td>\n",
       "      <td>6.2</td>\n",
       "      <td>90</td>\n",
       "      <td>0</td>\n",
       "    </tr>\n",
       "    <tr>\n",
       "      <th>99996</th>\n",
       "      <td>Female</td>\n",
       "      <td>2.0</td>\n",
       "      <td>0</td>\n",
       "      <td>0</td>\n",
       "      <td>No Info</td>\n",
       "      <td>17.37</td>\n",
       "      <td>6.5</td>\n",
       "      <td>100</td>\n",
       "      <td>0</td>\n",
       "    </tr>\n",
       "    <tr>\n",
       "      <th>99997</th>\n",
       "      <td>Male</td>\n",
       "      <td>66.0</td>\n",
       "      <td>0</td>\n",
       "      <td>0</td>\n",
       "      <td>former</td>\n",
       "      <td>27.83</td>\n",
       "      <td>5.7</td>\n",
       "      <td>155</td>\n",
       "      <td>0</td>\n",
       "    </tr>\n",
       "    <tr>\n",
       "      <th>99998</th>\n",
       "      <td>Female</td>\n",
       "      <td>24.0</td>\n",
       "      <td>0</td>\n",
       "      <td>0</td>\n",
       "      <td>never</td>\n",
       "      <td>35.42</td>\n",
       "      <td>4.0</td>\n",
       "      <td>100</td>\n",
       "      <td>0</td>\n",
       "    </tr>\n",
       "    <tr>\n",
       "      <th>99999</th>\n",
       "      <td>Female</td>\n",
       "      <td>57.0</td>\n",
       "      <td>0</td>\n",
       "      <td>0</td>\n",
       "      <td>current</td>\n",
       "      <td>22.43</td>\n",
       "      <td>6.6</td>\n",
       "      <td>90</td>\n",
       "      <td>0</td>\n",
       "    </tr>\n",
       "  </tbody>\n",
       "</table>\n",
       "<p>100000 rows × 9 columns</p>\n",
       "</div>"
      ],
      "text/plain": [
       "       gender   age  hypertension  heart_disease smoking_history    bmi  \\\n",
       "0      Female  80.0             0              1           never  25.19   \n",
       "1      Female  54.0             0              0         No Info  27.32   \n",
       "2        Male  28.0             0              0           never  27.32   \n",
       "3      Female  36.0             0              0         current  23.45   \n",
       "4        Male  76.0             1              1         current  20.14   \n",
       "...       ...   ...           ...            ...             ...    ...   \n",
       "99995  Female  80.0             0              0         No Info  27.32   \n",
       "99996  Female   2.0             0              0         No Info  17.37   \n",
       "99997    Male  66.0             0              0          former  27.83   \n",
       "99998  Female  24.0             0              0           never  35.42   \n",
       "99999  Female  57.0             0              0         current  22.43   \n",
       "\n",
       "       HbA1c_level  blood_glucose_level  diabetes  \n",
       "0              6.6                  140         0  \n",
       "1              6.6                   80         0  \n",
       "2              5.7                  158         0  \n",
       "3              5.0                  155         0  \n",
       "4              4.8                  155         0  \n",
       "...            ...                  ...       ...  \n",
       "99995          6.2                   90         0  \n",
       "99996          6.5                  100         0  \n",
       "99997          5.7                  155         0  \n",
       "99998          4.0                  100         0  \n",
       "99999          6.6                   90         0  \n",
       "\n",
       "[100000 rows x 9 columns]"
      ]
     },
     "execution_count": 3,
     "metadata": {},
     "output_type": "execute_result"
    }
   ],
   "source": [
    "dataset"
   ]
  },
  {
   "cell_type": "code",
   "execution_count": 22,
   "id": "08990d0d-d4f0-4f0d-8fdb-e59e8a0d7dc9",
   "metadata": {},
   "outputs": [],
   "source": [
    "X = dataset.iloc[:, 0:-1].values\n",
    "Y = dataset.iloc[:, -1].values"
   ]
  },
  {
   "cell_type": "code",
   "execution_count": 23,
   "id": "129ca415-d9fa-4099-a026-f1c2f6dc1397",
   "metadata": {},
   "outputs": [
    {
     "data": {
      "text/html": [
       "<div>\n",
       "<style scoped>\n",
       "    .dataframe tbody tr th:only-of-type {\n",
       "        vertical-align: middle;\n",
       "    }\n",
       "\n",
       "    .dataframe tbody tr th {\n",
       "        vertical-align: top;\n",
       "    }\n",
       "\n",
       "    .dataframe thead th {\n",
       "        text-align: right;\n",
       "    }\n",
       "</style>\n",
       "<table border=\"1\" class=\"dataframe\">\n",
       "  <thead>\n",
       "    <tr style=\"text-align: right;\">\n",
       "      <th></th>\n",
       "      <th>gender</th>\n",
       "      <th>age</th>\n",
       "      <th>hypertension</th>\n",
       "      <th>heart_disease</th>\n",
       "      <th>smoking_history</th>\n",
       "      <th>bmi</th>\n",
       "      <th>HbA1c_level</th>\n",
       "      <th>blood_glucose_level</th>\n",
       "    </tr>\n",
       "  </thead>\n",
       "  <tbody>\n",
       "    <tr>\n",
       "      <th>0</th>\n",
       "      <td>Female</td>\n",
       "      <td>80.0</td>\n",
       "      <td>0</td>\n",
       "      <td>1</td>\n",
       "      <td>never</td>\n",
       "      <td>25.19</td>\n",
       "      <td>6.6</td>\n",
       "      <td>140</td>\n",
       "    </tr>\n",
       "    <tr>\n",
       "      <th>1</th>\n",
       "      <td>Female</td>\n",
       "      <td>54.0</td>\n",
       "      <td>0</td>\n",
       "      <td>0</td>\n",
       "      <td>No Info</td>\n",
       "      <td>27.32</td>\n",
       "      <td>6.6</td>\n",
       "      <td>80</td>\n",
       "    </tr>\n",
       "    <tr>\n",
       "      <th>2</th>\n",
       "      <td>Male</td>\n",
       "      <td>28.0</td>\n",
       "      <td>0</td>\n",
       "      <td>0</td>\n",
       "      <td>never</td>\n",
       "      <td>27.32</td>\n",
       "      <td>5.7</td>\n",
       "      <td>158</td>\n",
       "    </tr>\n",
       "    <tr>\n",
       "      <th>3</th>\n",
       "      <td>Female</td>\n",
       "      <td>36.0</td>\n",
       "      <td>0</td>\n",
       "      <td>0</td>\n",
       "      <td>current</td>\n",
       "      <td>23.45</td>\n",
       "      <td>5.0</td>\n",
       "      <td>155</td>\n",
       "    </tr>\n",
       "    <tr>\n",
       "      <th>4</th>\n",
       "      <td>Male</td>\n",
       "      <td>76.0</td>\n",
       "      <td>1</td>\n",
       "      <td>1</td>\n",
       "      <td>current</td>\n",
       "      <td>20.14</td>\n",
       "      <td>4.8</td>\n",
       "      <td>155</td>\n",
       "    </tr>\n",
       "    <tr>\n",
       "      <th>...</th>\n",
       "      <td>...</td>\n",
       "      <td>...</td>\n",
       "      <td>...</td>\n",
       "      <td>...</td>\n",
       "      <td>...</td>\n",
       "      <td>...</td>\n",
       "      <td>...</td>\n",
       "      <td>...</td>\n",
       "    </tr>\n",
       "    <tr>\n",
       "      <th>99995</th>\n",
       "      <td>Female</td>\n",
       "      <td>80.0</td>\n",
       "      <td>0</td>\n",
       "      <td>0</td>\n",
       "      <td>No Info</td>\n",
       "      <td>27.32</td>\n",
       "      <td>6.2</td>\n",
       "      <td>90</td>\n",
       "    </tr>\n",
       "    <tr>\n",
       "      <th>99996</th>\n",
       "      <td>Female</td>\n",
       "      <td>2.0</td>\n",
       "      <td>0</td>\n",
       "      <td>0</td>\n",
       "      <td>No Info</td>\n",
       "      <td>17.37</td>\n",
       "      <td>6.5</td>\n",
       "      <td>100</td>\n",
       "    </tr>\n",
       "    <tr>\n",
       "      <th>99997</th>\n",
       "      <td>Male</td>\n",
       "      <td>66.0</td>\n",
       "      <td>0</td>\n",
       "      <td>0</td>\n",
       "      <td>former</td>\n",
       "      <td>27.83</td>\n",
       "      <td>5.7</td>\n",
       "      <td>155</td>\n",
       "    </tr>\n",
       "    <tr>\n",
       "      <th>99998</th>\n",
       "      <td>Female</td>\n",
       "      <td>24.0</td>\n",
       "      <td>0</td>\n",
       "      <td>0</td>\n",
       "      <td>never</td>\n",
       "      <td>35.42</td>\n",
       "      <td>4.0</td>\n",
       "      <td>100</td>\n",
       "    </tr>\n",
       "    <tr>\n",
       "      <th>99999</th>\n",
       "      <td>Female</td>\n",
       "      <td>57.0</td>\n",
       "      <td>0</td>\n",
       "      <td>0</td>\n",
       "      <td>current</td>\n",
       "      <td>22.43</td>\n",
       "      <td>6.6</td>\n",
       "      <td>90</td>\n",
       "    </tr>\n",
       "  </tbody>\n",
       "</table>\n",
       "<p>100000 rows × 8 columns</p>\n",
       "</div>"
      ],
      "text/plain": [
       "       gender   age hypertension heart_disease smoking_history    bmi  \\\n",
       "0      Female  80.0            0             1           never  25.19   \n",
       "1      Female  54.0            0             0         No Info  27.32   \n",
       "2        Male  28.0            0             0           never  27.32   \n",
       "3      Female  36.0            0             0         current  23.45   \n",
       "4        Male  76.0            1             1         current  20.14   \n",
       "...       ...   ...          ...           ...             ...    ...   \n",
       "99995  Female  80.0            0             0         No Info  27.32   \n",
       "99996  Female   2.0            0             0         No Info  17.37   \n",
       "99997    Male  66.0            0             0          former  27.83   \n",
       "99998  Female  24.0            0             0           never  35.42   \n",
       "99999  Female  57.0            0             0         current  22.43   \n",
       "\n",
       "      HbA1c_level blood_glucose_level  \n",
       "0             6.6                 140  \n",
       "1             6.6                  80  \n",
       "2             5.7                 158  \n",
       "3             5.0                 155  \n",
       "4             4.8                 155  \n",
       "...           ...                 ...  \n",
       "99995         6.2                  90  \n",
       "99996         6.5                 100  \n",
       "99997         5.7                 155  \n",
       "99998         4.0                 100  \n",
       "99999         6.6                  90  \n",
       "\n",
       "[100000 rows x 8 columns]"
      ]
     },
     "execution_count": 23,
     "metadata": {},
     "output_type": "execute_result"
    }
   ],
   "source": [
    "pd.DataFrame(X, columns = [\"gender\",\"age\",\"hypertension\",\"heart_disease\",\"smoking_history\",\"bmi\",\"HbA1c_level\",\"blood_glucose_level\"])"
   ]
  },
  {
   "cell_type": "code",
   "execution_count": 18,
   "id": "1fcc27a7-5dbb-4a49-b04c-afbf37d4568a",
   "metadata": {
    "scrolled": true
   },
   "outputs": [
    {
     "data": {
      "text/html": [
       "<div>\n",
       "<style scoped>\n",
       "    .dataframe tbody tr th:only-of-type {\n",
       "        vertical-align: middle;\n",
       "    }\n",
       "\n",
       "    .dataframe tbody tr th {\n",
       "        vertical-align: top;\n",
       "    }\n",
       "\n",
       "    .dataframe thead th {\n",
       "        text-align: right;\n",
       "    }\n",
       "</style>\n",
       "<table border=\"1\" class=\"dataframe\">\n",
       "  <thead>\n",
       "    <tr style=\"text-align: right;\">\n",
       "      <th></th>\n",
       "      <th>diabetes</th>\n",
       "    </tr>\n",
       "  </thead>\n",
       "  <tbody>\n",
       "    <tr>\n",
       "      <th>0</th>\n",
       "      <td>0</td>\n",
       "    </tr>\n",
       "    <tr>\n",
       "      <th>1</th>\n",
       "      <td>0</td>\n",
       "    </tr>\n",
       "    <tr>\n",
       "      <th>2</th>\n",
       "      <td>0</td>\n",
       "    </tr>\n",
       "    <tr>\n",
       "      <th>3</th>\n",
       "      <td>0</td>\n",
       "    </tr>\n",
       "    <tr>\n",
       "      <th>4</th>\n",
       "      <td>0</td>\n",
       "    </tr>\n",
       "    <tr>\n",
       "      <th>...</th>\n",
       "      <td>...</td>\n",
       "    </tr>\n",
       "    <tr>\n",
       "      <th>99995</th>\n",
       "      <td>0</td>\n",
       "    </tr>\n",
       "    <tr>\n",
       "      <th>99996</th>\n",
       "      <td>0</td>\n",
       "    </tr>\n",
       "    <tr>\n",
       "      <th>99997</th>\n",
       "      <td>0</td>\n",
       "    </tr>\n",
       "    <tr>\n",
       "      <th>99998</th>\n",
       "      <td>0</td>\n",
       "    </tr>\n",
       "    <tr>\n",
       "      <th>99999</th>\n",
       "      <td>0</td>\n",
       "    </tr>\n",
       "  </tbody>\n",
       "</table>\n",
       "<p>100000 rows × 1 columns</p>\n",
       "</div>"
      ],
      "text/plain": [
       "       diabetes\n",
       "0             0\n",
       "1             0\n",
       "2             0\n",
       "3             0\n",
       "4             0\n",
       "...         ...\n",
       "99995         0\n",
       "99996         0\n",
       "99997         0\n",
       "99998         0\n",
       "99999         0\n",
       "\n",
       "[100000 rows x 1 columns]"
      ]
     },
     "execution_count": 18,
     "metadata": {},
     "output_type": "execute_result"
    }
   ],
   "source": [
    "pd.DataFrame(Y, columns = [\"diabetes\"])"
   ]
  },
  {
   "cell_type": "code",
   "execution_count": 25,
   "id": "e634c77c-5a71-44ac-9aa7-88a7bef506c7",
   "metadata": {
    "scrolled": true
   },
   "outputs": [
    {
     "data": {
      "text/plain": [
       "array([['Female', 80.0, 0, ..., 25.19, 6.6, 140],\n",
       "       ['Female', 54.0, 0, ..., 27.32, 6.6, 80],\n",
       "       ['Male', 28.0, 0, ..., 27.32, 5.7, 158],\n",
       "       ...,\n",
       "       ['Male', 66.0, 0, ..., 27.83, 5.7, 155],\n",
       "       ['Female', 24.0, 0, ..., 35.42, 4.0, 100],\n",
       "       ['Female', 57.0, 0, ..., 22.43, 6.6, 90]], dtype=object)"
      ]
     },
     "execution_count": 25,
     "metadata": {},
     "output_type": "execute_result"
    }
   ],
   "source": [
    "X"
   ]
  },
  {
   "cell_type": "code",
   "execution_count": 26,
   "id": "3e4dc79b-16d1-419d-8489-ba48d9543319",
   "metadata": {},
   "outputs": [
    {
     "data": {
      "text/plain": [
       "array([0, 0, 0, ..., 0, 0, 0], dtype=int64)"
      ]
     },
     "execution_count": 26,
     "metadata": {},
     "output_type": "execute_result"
    }
   ],
   "source": [
    "Y"
   ]
  },
  {
   "cell_type": "markdown",
   "id": "d9dc592b-d908-4ee1-b86d-a711f1f12d83",
   "metadata": {},
   "source": [
    "### Encoding categorical data"
   ]
  },
  {
   "cell_type": "code",
   "execution_count": 44,
   "id": "04eaf841-1613-4dc9-aa0d-b756d6c182d4",
   "metadata": {},
   "outputs": [],
   "source": [
    "le = LabelEncoder()\n",
    "X[:, 0] = le.fit_transform(X[:, 0])"
   ]
  },
  {
   "cell_type": "code",
   "execution_count": 43,
   "id": "98b727ed-87a4-4b04-b8bc-eac16529bd57",
   "metadata": {},
   "outputs": [
    {
     "name": "stdout",
     "output_type": "stream",
     "text": [
      "[[0 80.0 0 ... 1334 6.6 140]\n",
      " [0 54.0 0 ... 1547 6.6 80]\n",
      " [1 28.0 0 ... 1547 5.7 158]\n",
      " ...\n",
      " [1 66.0 0 ... 1598 5.7 155]\n",
      " [0 24.0 0 ... 2357 4.0 100]\n",
      " [0 57.0 0 ... 1058 6.6 90]]\n"
     ]
    }
   ],
   "source": [
    "print(X)"
   ]
  },
  {
   "cell_type": "code",
   "execution_count": 45,
   "id": "12999118-a989-4a94-9eb5-e9b02e56e127",
   "metadata": {},
   "outputs": [],
   "source": [
    "from sklearn.compose import ColumnTransformer\n",
    "from sklearn.preprocessing import OneHotEncoder\n",
    "ct = ColumnTransformer(transformers=[('encoder', OneHotEncoder(), [4])], remainder='passthrough')\n",
    "X = np.array(ct.fit_transform(X))"
   ]
  },
  {
   "cell_type": "code",
   "execution_count": 47,
   "id": "2f863d19-a325-4d3c-acf1-fdd6fb43f96d",
   "metadata": {},
   "outputs": [
    {
     "name": "stdout",
     "output_type": "stream",
     "text": [
      "[[0.0 0.0 0.0 ... 1334 6.6 140]\n",
      " [1.0 0.0 0.0 ... 1547 6.6 80]\n",
      " [0.0 0.0 0.0 ... 1547 5.7 158]\n",
      " ...\n",
      " [0.0 0.0 0.0 ... 1598 5.7 155]\n",
      " [0.0 0.0 0.0 ... 2357 4.0 100]\n",
      " [0.0 1.0 0.0 ... 1058 6.6 90]]\n"
     ]
    }
   ],
   "source": [
    "print(X)"
   ]
  },
  {
   "cell_type": "markdown",
   "id": "130c6720-7277-418c-8f37-e6f6a2d56dcb",
   "metadata": {},
   "source": [
    "### Splitting the dataset into the Training set and Test set"
   ]
  },
  {
   "cell_type": "code",
   "execution_count": 49,
   "id": "717d69fe-9255-4d03-9f83-6eb9fd8a60a6",
   "metadata": {},
   "outputs": [],
   "source": [
    "from sklearn.model_selection import train_test_split\n",
    "X_train, X_test, y_train, y_test = train_test_split(X, y, test_size = 0.2, random_state = 0)"
   ]
  },
  {
   "cell_type": "markdown",
   "id": "0da6cb45-0ea6-4155-8b7d-d25cb99c9b44",
   "metadata": {},
   "source": [
    "### Feature Scaling"
   ]
  },
  {
   "cell_type": "code",
   "execution_count": 50,
   "id": "22de3ff3-93a5-4e9c-8147-6e6275b900d6",
   "metadata": {},
   "outputs": [],
   "source": [
    "from sklearn.preprocessing import StandardScaler\n",
    "sc = StandardScaler()\n",
    "X_train = sc.fit_transform(X_train)\n",
    "X_test = sc.transform(X_test)"
   ]
  },
  {
   "cell_type": "markdown",
   "id": "a44faf32-07d1-47ec-9ad4-2c6dfb40a8d5",
   "metadata": {},
   "source": [
    "## Part 2 - Building the ANN"
   ]
  },
  {
   "cell_type": "code",
   "execution_count": 51,
   "id": "d6fb889c-34e5-4733-a261-ddeafb352049",
   "metadata": {},
   "outputs": [],
   "source": [
    "ann = tf.keras.models.Sequential()"
   ]
  },
  {
   "cell_type": "code",
   "execution_count": 52,
   "id": "dd349150-0c41-43f1-93e6-ac1b91e73245",
   "metadata": {},
   "outputs": [],
   "source": [
    "ann.add(tf.keras.layers.Dense(units=8, activation='elu'))"
   ]
  },
  {
   "cell_type": "code",
   "execution_count": 53,
   "id": "ea091dfd-03ad-4002-b78b-356849d4d43b",
   "metadata": {},
   "outputs": [],
   "source": [
    "ann.add(tf.keras.layers.Dense(units=4, activation='elu'))\n",
    "ann.add(tf.keras.layers.Dense(units=4, activation='elu'))"
   ]
  },
  {
   "cell_type": "code",
   "execution_count": 54,
   "id": "8d00e4bc-6e5c-41d9-a043-4f98f3780171",
   "metadata": {},
   "outputs": [],
   "source": [
    "ann.add(tf.keras.layers.Dense(units=1, activation='sigmoid'))"
   ]
  },
  {
   "cell_type": "markdown",
   "id": "9d6e2ff5-3812-45cf-bbfc-3094a74c45a6",
   "metadata": {},
   "source": [
    "## Part 3 - Training the ANN"
   ]
  },
  {
   "cell_type": "code",
   "execution_count": 55,
   "id": "f005497f-5e02-4fad-aff6-845b46421c3d",
   "metadata": {},
   "outputs": [],
   "source": [
    "ann.compile(optimizer = 'Nadam', loss = 'binary_crossentropy', metrics = ['accuracy'])"
   ]
  },
  {
   "cell_type": "code",
   "execution_count": 56,
   "id": "77641af8-67ad-4393-8fcb-c4e1d287cb22",
   "metadata": {},
   "outputs": [
    {
     "name": "stdout",
     "output_type": "stream",
     "text": [
      "Epoch 1/100\n",
      "2500/2500 [==============================] - 11s 3ms/step - loss: 0.1526 - accuracy: 0.9402\n",
      "Epoch 2/100\n",
      "2500/2500 [==============================] - 5s 2ms/step - loss: 0.1179 - accuracy: 0.9590\n",
      "Epoch 3/100\n",
      "2500/2500 [==============================] - 5s 2ms/step - loss: 0.1153 - accuracy: 0.9597\n",
      "Epoch 4/100\n",
      "2500/2500 [==============================] - 5s 2ms/step - loss: 0.1124 - accuracy: 0.9612\n",
      "Epoch 5/100\n",
      "2500/2500 [==============================] - 7s 3ms/step - loss: 0.1087 - accuracy: 0.9625\n",
      "Epoch 6/100\n",
      "2500/2500 [==============================] - 5s 2ms/step - loss: 0.1056 - accuracy: 0.9639\n",
      "Epoch 7/100\n",
      "2500/2500 [==============================] - 6s 2ms/step - loss: 0.1031 - accuracy: 0.9652\n",
      "Epoch 8/100\n",
      "2500/2500 [==============================] - 6s 2ms/step - loss: 0.1011 - accuracy: 0.9662\n",
      "Epoch 9/100\n",
      "2500/2500 [==============================] - 5s 2ms/step - loss: 0.0991 - accuracy: 0.9672\n",
      "Epoch 10/100\n",
      "2500/2500 [==============================] - 6s 2ms/step - loss: 0.0971 - accuracy: 0.9679\n",
      "Epoch 11/100\n",
      "2500/2500 [==============================] - 6s 2ms/step - loss: 0.0951 - accuracy: 0.9686\n",
      "Epoch 12/100\n",
      "2500/2500 [==============================] - 7s 3ms/step - loss: 0.0935 - accuracy: 0.9693\n",
      "Epoch 13/100\n",
      "2500/2500 [==============================] - 5s 2ms/step - loss: 0.0920 - accuracy: 0.9696\n",
      "Epoch 14/100\n",
      "2500/2500 [==============================] - 6s 3ms/step - loss: 0.0911 - accuracy: 0.9696\n",
      "Epoch 15/100\n",
      "2500/2500 [==============================] - 6s 2ms/step - loss: 0.0898 - accuracy: 0.9699\n",
      "Epoch 16/100\n",
      "2500/2500 [==============================] - 6s 3ms/step - loss: 0.0892 - accuracy: 0.9701\n",
      "Epoch 17/100\n",
      "2500/2500 [==============================] - 6s 2ms/step - loss: 0.0885 - accuracy: 0.9704\n",
      "Epoch 18/100\n",
      "2500/2500 [==============================] - 6s 2ms/step - loss: 0.0877 - accuracy: 0.9704\n",
      "Epoch 19/100\n",
      "2500/2500 [==============================] - 6s 2ms/step - loss: 0.0870 - accuracy: 0.9704\n",
      "Epoch 20/100\n",
      "2500/2500 [==============================] - 5s 2ms/step - loss: 0.0864 - accuracy: 0.9704\n",
      "Epoch 21/100\n",
      "2500/2500 [==============================] - 6s 2ms/step - loss: 0.0860 - accuracy: 0.9708\n",
      "Epoch 22/100\n",
      "2500/2500 [==============================] - 6s 2ms/step - loss: 0.0855 - accuracy: 0.9709\n",
      "Epoch 23/100\n",
      "2500/2500 [==============================] - 7s 3ms/step - loss: 0.0853 - accuracy: 0.9708\n",
      "Epoch 24/100\n",
      "2500/2500 [==============================] - 5s 2ms/step - loss: 0.0849 - accuracy: 0.9709\n",
      "Epoch 25/100\n",
      "2500/2500 [==============================] - 6s 2ms/step - loss: 0.0848 - accuracy: 0.9710\n",
      "Epoch 26/100\n",
      "2500/2500 [==============================] - 6s 3ms/step - loss: 0.0847 - accuracy: 0.9708\n",
      "Epoch 27/100\n",
      "2500/2500 [==============================] - 5s 2ms/step - loss: 0.0844 - accuracy: 0.9710\n",
      "Epoch 28/100\n",
      "2500/2500 [==============================] - 5s 2ms/step - loss: 0.0844 - accuracy: 0.9707\n",
      "Epoch 29/100\n",
      "2500/2500 [==============================] - 6s 2ms/step - loss: 0.0844 - accuracy: 0.9709\n",
      "Epoch 30/100\n",
      "2500/2500 [==============================] - 6s 2ms/step - loss: 0.0842 - accuracy: 0.9710\n",
      "Epoch 31/100\n",
      "2500/2500 [==============================] - 6s 2ms/step - loss: 0.0841 - accuracy: 0.9710\n",
      "Epoch 32/100\n",
      "2500/2500 [==============================] - 6s 2ms/step - loss: 0.0840 - accuracy: 0.9710\n",
      "Epoch 33/100\n",
      "2500/2500 [==============================] - 6s 2ms/step - loss: 0.0840 - accuracy: 0.9710\n",
      "Epoch 34/100\n",
      "2500/2500 [==============================] - 5s 2ms/step - loss: 0.0840 - accuracy: 0.9710\n",
      "Epoch 35/100\n",
      "2500/2500 [==============================] - 6s 2ms/step - loss: 0.0840 - accuracy: 0.9710\n",
      "Epoch 36/100\n",
      "2500/2500 [==============================] - 6s 2ms/step - loss: 0.0837 - accuracy: 0.9712\n",
      "Epoch 37/100\n",
      "2500/2500 [==============================] - 6s 2ms/step - loss: 0.0839 - accuracy: 0.9710\n",
      "Epoch 38/100\n",
      "2500/2500 [==============================] - 6s 2ms/step - loss: 0.0837 - accuracy: 0.9712\n",
      "Epoch 39/100\n",
      "2500/2500 [==============================] - 6s 2ms/step - loss: 0.0838 - accuracy: 0.9709\n",
      "Epoch 40/100\n",
      "2500/2500 [==============================] - 6s 2ms/step - loss: 0.0838 - accuracy: 0.9711\n",
      "Epoch 41/100\n",
      "2500/2500 [==============================] - 6s 2ms/step - loss: 0.0837 - accuracy: 0.9710\n",
      "Epoch 42/100\n",
      "2500/2500 [==============================] - 6s 2ms/step - loss: 0.0837 - accuracy: 0.9709\n",
      "Epoch 43/100\n",
      "2500/2500 [==============================] - 5s 2ms/step - loss: 0.0837 - accuracy: 0.9711\n",
      "Epoch 44/100\n",
      "2500/2500 [==============================] - 5s 2ms/step - loss: 0.0835 - accuracy: 0.9710\n",
      "Epoch 45/100\n",
      "2500/2500 [==============================] - 6s 2ms/step - loss: 0.0835 - accuracy: 0.9710\n",
      "Epoch 46/100\n",
      "2500/2500 [==============================] - 5s 2ms/step - loss: 0.0834 - accuracy: 0.9711\n",
      "Epoch 47/100\n",
      "2500/2500 [==============================] - 6s 2ms/step - loss: 0.0834 - accuracy: 0.9710\n",
      "Epoch 48/100\n",
      "2500/2500 [==============================] - 5s 2ms/step - loss: 0.0834 - accuracy: 0.9709\n",
      "Epoch 49/100\n",
      "2500/2500 [==============================] - 6s 2ms/step - loss: 0.0835 - accuracy: 0.9711\n",
      "Epoch 50/100\n",
      "2500/2500 [==============================] - 6s 2ms/step - loss: 0.0834 - accuracy: 0.9711\n",
      "Epoch 51/100\n",
      "2500/2500 [==============================] - 5s 2ms/step - loss: 0.0834 - accuracy: 0.9710\n",
      "Epoch 52/100\n",
      "2500/2500 [==============================] - 6s 2ms/step - loss: 0.0833 - accuracy: 0.9711\n",
      "Epoch 53/100\n",
      "2500/2500 [==============================] - 6s 2ms/step - loss: 0.0831 - accuracy: 0.9712\n",
      "Epoch 54/100\n",
      "2500/2500 [==============================] - 5s 2ms/step - loss: 0.0833 - accuracy: 0.9712\n",
      "Epoch 55/100\n",
      "2500/2500 [==============================] - 6s 2ms/step - loss: 0.0831 - accuracy: 0.9711\n",
      "Epoch 56/100\n",
      "2500/2500 [==============================] - 6s 2ms/step - loss: 0.0833 - accuracy: 0.9711\n",
      "Epoch 57/100\n",
      "2500/2500 [==============================] - 6s 2ms/step - loss: 0.0832 - accuracy: 0.9711\n",
      "Epoch 58/100\n",
      "2500/2500 [==============================] - 5s 2ms/step - loss: 0.0832 - accuracy: 0.9711\n",
      "Epoch 59/100\n",
      "2500/2500 [==============================] - 5s 2ms/step - loss: 0.0832 - accuracy: 0.9710\n",
      "Epoch 60/100\n",
      "2500/2500 [==============================] - 6s 2ms/step - loss: 0.0831 - accuracy: 0.9711\n",
      "Epoch 61/100\n",
      "2500/2500 [==============================] - 5s 2ms/step - loss: 0.0830 - accuracy: 0.9712\n",
      "Epoch 62/100\n",
      "2500/2500 [==============================] - 5s 2ms/step - loss: 0.0831 - accuracy: 0.9712\n",
      "Epoch 63/100\n",
      "2500/2500 [==============================] - 5s 2ms/step - loss: 0.0830 - accuracy: 0.9711\n",
      "Epoch 64/100\n",
      "2500/2500 [==============================] - 6s 2ms/step - loss: 0.0831 - accuracy: 0.9710\n",
      "Epoch 65/100\n",
      "2500/2500 [==============================] - 6s 2ms/step - loss: 0.0830 - accuracy: 0.9711\n",
      "Epoch 66/100\n",
      "2500/2500 [==============================] - 6s 2ms/step - loss: 0.0830 - accuracy: 0.9712\n",
      "Epoch 67/100\n",
      "2500/2500 [==============================] - 6s 2ms/step - loss: 0.0831 - accuracy: 0.9711\n",
      "Epoch 68/100\n",
      "2500/2500 [==============================] - 6s 2ms/step - loss: 0.0830 - accuracy: 0.9710\n",
      "Epoch 69/100\n",
      "2500/2500 [==============================] - 5s 2ms/step - loss: 0.0831 - accuracy: 0.9711\n",
      "Epoch 70/100\n",
      "2500/2500 [==============================] - 6s 2ms/step - loss: 0.0829 - accuracy: 0.9712\n",
      "Epoch 71/100\n",
      "2500/2500 [==============================] - 5s 2ms/step - loss: 0.0829 - accuracy: 0.9711\n",
      "Epoch 72/100\n",
      "2500/2500 [==============================] - 6s 2ms/step - loss: 0.0831 - accuracy: 0.9710\n",
      "Epoch 73/100\n",
      "2500/2500 [==============================] - 6s 2ms/step - loss: 0.0830 - accuracy: 0.9712\n",
      "Epoch 74/100\n",
      "2500/2500 [==============================] - 6s 2ms/step - loss: 0.0830 - accuracy: 0.9711\n",
      "Epoch 75/100\n",
      "2500/2500 [==============================] - 5s 2ms/step - loss: 0.0828 - accuracy: 0.9712\n",
      "Epoch 76/100\n",
      "2500/2500 [==============================] - 5s 2ms/step - loss: 0.0829 - accuracy: 0.9711\n",
      "Epoch 77/100\n",
      "2500/2500 [==============================] - 5s 2ms/step - loss: 0.0828 - accuracy: 0.9713\n",
      "Epoch 78/100\n",
      "2500/2500 [==============================] - 5s 2ms/step - loss: 0.0829 - accuracy: 0.9711\n",
      "Epoch 79/100\n",
      "2500/2500 [==============================] - 5s 2ms/step - loss: 0.0828 - accuracy: 0.9713\n",
      "Epoch 80/100\n",
      "2500/2500 [==============================] - 5s 2ms/step - loss: 0.0829 - accuracy: 0.9711\n",
      "Epoch 81/100\n",
      "2500/2500 [==============================] - 6s 2ms/step - loss: 0.0830 - accuracy: 0.9711\n",
      "Epoch 82/100\n",
      "2500/2500 [==============================] - 5s 2ms/step - loss: 0.0828 - accuracy: 0.9713\n",
      "Epoch 83/100\n",
      "2500/2500 [==============================] - 5s 2ms/step - loss: 0.0827 - accuracy: 0.9714\n",
      "Epoch 84/100\n",
      "2500/2500 [==============================] - 5s 2ms/step - loss: 0.0827 - accuracy: 0.9712\n",
      "Epoch 85/100\n",
      "2500/2500 [==============================] - 5s 2ms/step - loss: 0.0827 - accuracy: 0.9712\n",
      "Epoch 86/100\n",
      "2500/2500 [==============================] - 5s 2ms/step - loss: 0.0828 - accuracy: 0.9712\n",
      "Epoch 87/100\n",
      "2500/2500 [==============================] - 5s 2ms/step - loss: 0.0828 - accuracy: 0.9712\n",
      "Epoch 88/100\n",
      "2500/2500 [==============================] - 5s 2ms/step - loss: 0.0828 - accuracy: 0.9711\n",
      "Epoch 89/100\n",
      "2500/2500 [==============================] - 5s 2ms/step - loss: 0.0827 - accuracy: 0.9713\n",
      "Epoch 90/100\n",
      "2500/2500 [==============================] - 6s 2ms/step - loss: 0.0827 - accuracy: 0.9712\n",
      "Epoch 91/100\n",
      "2500/2500 [==============================] - 5s 2ms/step - loss: 0.0827 - accuracy: 0.9712\n",
      "Epoch 92/100\n",
      "2500/2500 [==============================] - 5s 2ms/step - loss: 0.0827 - accuracy: 0.9714\n",
      "Epoch 93/100\n",
      "2500/2500 [==============================] - 6s 2ms/step - loss: 0.0827 - accuracy: 0.9712\n",
      "Epoch 94/100\n",
      "2500/2500 [==============================] - 5s 2ms/step - loss: 0.0827 - accuracy: 0.9711\n",
      "Epoch 95/100\n",
      "2500/2500 [==============================] - 6s 2ms/step - loss: 0.0828 - accuracy: 0.9713\n",
      "Epoch 96/100\n",
      "2500/2500 [==============================] - 6s 2ms/step - loss: 0.0827 - accuracy: 0.9713\n",
      "Epoch 97/100\n",
      "2500/2500 [==============================] - 5s 2ms/step - loss: 0.0826 - accuracy: 0.9713\n",
      "Epoch 98/100\n",
      "2500/2500 [==============================] - 5s 2ms/step - loss: 0.0827 - accuracy: 0.9713\n",
      "Epoch 99/100\n",
      "2500/2500 [==============================] - 6s 2ms/step - loss: 0.0824 - accuracy: 0.9713\n",
      "Epoch 100/100\n",
      "2500/2500 [==============================] - 5s 2ms/step - loss: 0.0828 - accuracy: 0.9710\n"
     ]
    },
    {
     "data": {
      "text/plain": [
       "<keras.src.callbacks.History at 0x11bb0734a10>"
      ]
     },
     "execution_count": 56,
     "metadata": {},
     "output_type": "execute_result"
    }
   ],
   "source": [
    "ann.fit(X_train, y_train, batch_size = 32, epochs = 100)"
   ]
  },
  {
   "cell_type": "markdown",
   "id": "e2d6c334-464c-4cfe-9679-ed0b7f9dca4b",
   "metadata": {},
   "source": [
    "## Part 4 - Making the predictions and evaluating the model"
   ]
  },
  {
   "cell_type": "code",
   "execution_count": 57,
   "id": "034e17f4-bc47-45e2-b578-c590e09834f3",
   "metadata": {},
   "outputs": [
    {
     "name": "stdout",
     "output_type": "stream",
     "text": [
      "625/625 [==============================] - 1s 2ms/step\n",
      "[[0 0]\n",
      " [0 0]\n",
      " [0 0]\n",
      " ...\n",
      " [0 0]\n",
      " [0 0]\n",
      " [0 0]]\n"
     ]
    }
   ],
   "source": [
    "y_pred = ann.predict(X_test)\n",
    "y_pred = (y_pred > 0.5)\n",
    "print(np.concatenate((y_pred.reshape(len(y_pred),1), y_test.reshape(len(y_test),1)),1))"
   ]
  },
  {
   "cell_type": "code",
   "execution_count": 63,
   "id": "558dee3b-d1f2-401f-a81b-bf2e7d7b3fae",
   "metadata": {},
   "outputs": [
    {
     "name": "stdout",
     "output_type": "stream",
     "text": [
      "[[18292     5]\n",
      " [  561  1142]]\n",
      "Sensitivity (True Positive Rate): 0.6705813270698767\n",
      "Specificity: 0.9997267311581134\n"
     ]
    },
    {
     "data": {
      "text/plain": [
       "0.9717"
      ]
     },
     "execution_count": 63,
     "metadata": {},
     "output_type": "execute_result"
    }
   ],
   "source": [
    "from sklearn.metrics import confusion_matrix, accuracy_score\n",
    "import matplotlib.pyplot as plt\n",
    "\n",
    "true_negatives = conf_matrix[0, 0]\n",
    "false_positives = conf_matrix[0, 1]\n",
    "false_negatives = conf_matrix[1, 0]\n",
    "true_positives = conf_matrix[1, 1]\n",
    "\n",
    "conf_matrix = confusion_matrix(y_test, y_pred)\n",
    "print(conf_matrix)\n",
    "sensitivity = true_positives / (true_positives + false_negatives)\n",
    "specificity = true_negatives / (true_negatives + false_positives)\n",
    "\n",
    "print(\"Sensitivity (True Positive Rate):\", sensitivity)\n",
    "print(\"Specificity:\", specificity)\n",
    "accuracy_score(y_test, y_pred)"
   ]
  },
  {
   "cell_type": "code",
   "execution_count": 64,
   "id": "64041537-2a26-4e81-b77a-253a9e87fcbc",
   "metadata": {},
   "outputs": [
    {
     "data": {
      "image/png": "[encoded data removed]",
      "text/plain": [
       "<Figure size 750x750 with 1 Axes>"
      ]
     },
     "metadata": {},
     "output_type": "display_data"
    }
   ],
   "source": [
    "fig, ax = plt.subplots(figsize=(7.5, 7.5))\n",
    "ax.matshow(conf_matrix, cmap=plt.cm.Blues, alpha=0.3)\n",
    "for i in range(conf_matrix.shape[0]):\n",
    "    for j in range(conf_matrix.shape[1]):\n",
    "        ax.text(x=j, y=i,s=conf_matrix[i, j], va='center', ha='center', size='xx-large')\n",
    " \n",
    "plt.xlabel('Predictions', fontsize=18)\n",
    "plt.ylabel('Actuals', fontsize=18)\n",
    "plt.title('Confusion Matrix', fontsize=18)\n",
    "plt.show()"
   ]
  }
 ],
 "metadata": {
  "kernelspec": {
   "display_name": "Python 3 (ipykernel)",
   "language": "python",
   "name": "python3"
  },
  "language_info": {
   "codemirror_mode": {
    "name": "ipython",
    "version": 3
   },
   "file_extension": ".py",
   "mimetype": "text/x-python",
   "name": "python",
   "nbconvert_exporter": "python",
   "pygments_lexer": "ipython3",
   "version": "3.11.4"
  }
 },
 "nbformat": 4,
 "nbformat_minor": 5
}
